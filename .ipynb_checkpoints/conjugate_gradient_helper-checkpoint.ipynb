{
 "cells": [
  {
   "cell_type": "markdown",
   "metadata": {},
   "source": [
    "# Imports"
   ]
  },
  {
   "cell_type": "code",
   "execution_count": 4,
   "metadata": {
    "ExecuteTime": {
     "end_time": "2020-10-30T08:29:01.372745Z",
     "start_time": "2020-10-30T08:29:01.370509Z"
    }
   },
   "outputs": [],
   "source": [
    "import torch\n",
    "import torch.autograd as autograd"
   ]
  },
  {
   "cell_type": "markdown",
   "metadata": {},
   "source": [
    "# Testing Stuff"
   ]
  },
  {
   "cell_type": "code",
   "execution_count": null,
   "metadata": {},
   "outputs": [],
   "source": [
    "x = torch.ones(2, 2, requires_grad=True)\n",
    "print(x)\n",
    "y = x + 2\n",
    "print(y)\n",
    "z = y * y * 3\n",
    "out = z.mean()\n",
    "\n",
    "print(z)\n",
    "print(out)\n",
    "\n",
    "\n",
    "print(autograd.grad(out, x))\n"
   ]
  },
  {
   "cell_type": "markdown",
   "metadata": {},
   "source": [
    "# Hessian Vector Product Trick (from Hongkai)"
   ]
  },
  {
   "cell_type": "code",
   "execution_count": 5,
   "metadata": {
    "ExecuteTime": {
     "end_time": "2020-10-30T08:29:02.683857Z",
     "start_time": "2020-10-30T08:29:02.677663Z"
    },
    "code_folding": []
   },
   "outputs": [],
   "source": [
    "def Hvp_vec(grad_vec, params, vec, retain_graph=False):\n",
    "    '''\n",
    "    Parameters:\n",
    "        - grad_vec: Tensor of which the Hessian vector product will be computed\n",
    "        - params: list of params, w.r.t which the Hessian will be computed\n",
    "        - vec: The \"vector\" in Hessian vector product\n",
    "    return: Hessian vector product\n",
    "    '''\n",
    "    if torch.isnan(grad_vec).any():\n",
    "        raise ValueError('Gradvec nan')\n",
    "    if torch.isnan(vec).any():\n",
    "        raise ValueError('vector nan')\n",
    "        # zero padding for None\n",
    "    grad_grad = autograd.grad(grad_vec, params, grad_outputs=vec, retain_graph=retain_graph,\n",
    "                              allow_unused=True)\n",
    "    grad_list = []\n",
    "    for i, p in enumerate(params):\n",
    "        if grad_grad[i] is None:\n",
    "            grad_list.append(torch.zeros_like(p).view(-1))\n",
    "        else:\n",
    "            grad_list.append(grad_grad[i].contiguous().view(-1))\n",
    "    hvp = torch.cat(grad_list)\n",
    "    if torch.isnan(hvp).any():\n",
    "        raise ValueError('hvp Nan')\n",
    "    return hvp\n"
   ]
  },
  {
   "cell_type": "markdown",
   "metadata": {},
   "source": [
    "# Function to Avp"
   ]
  },
  {
   "cell_type": "code",
   "execution_count": 23,
   "metadata": {
    "ExecuteTime": {
     "end_time": "2020-10-30T09:17:23.486098Z",
     "start_time": "2020-10-30T09:17:23.478716Z"
    }
   },
   "outputs": [],
   "source": [
    "def avp(\n",
    "    vector_list,\n",
    "    loss_list,\n",
    "    param_list,\n",
    "    lr,\n",
    "    transpose=False\n",
    "):\n",
    "    \"\"\"\n",
    "    :param vector_list: list of vectors for each player\n",
    "    :param loss_list: list of objective functions for each player\n",
    "    :param param_list: list of parameter vectors for each player\n",
    "    :param lr: learning rate\n",
    "    \"\"\"\n",
    "    # TODO(jjma): add error handling and assertions\n",
    "    # TODO(jjma): add transpose case\n",
    "    \n",
    "    prod_list = [torch.zeros(param.shape[0]) for param in param_list]\n",
    "    \n",
    "    for i, (loss, row_param) in enumerate(zip(loss_list, param_list)):\n",
    "        for j, (col_param, vector_elem) in enumerate(zip(param_list, vector_list)):\n",
    "            if i == j:\n",
    "                prod_list[i]._add(col_param)\n",
    "                continue\n",
    "\n",
    "            grad_param = autograd.grad(loss, col_param, create_graph=True, retain_graph=True)\n",
    "            grad_param_vec = torch.cat([g.continuous().view(-1) for g in grad_param])\n",
    "\n",
    "            if torch.isnan(grad_param_vec).any():\n",
    "                raise ValueError('grad_param_vec nan')\n",
    "\n",
    "            hessian_vec_prod = Hvp_vec(grad_param_vec, row_param, vector_elem)\n",
    "\n",
    "            prod_list[i]._add(lr * hessian_vec_prod)\n",
    "                \n",
    "    Avp = torch.cat(prod_list)\n",
    "    if torch.isnan(Avp).any():\n",
    "        raise ValueError('Avp nan')\n",
    "    \n",
    "    return Avp\n",
    "    \n"
   ]
  },
  {
   "cell_type": "markdown",
   "metadata": {},
   "source": [
    "# Testing Meta-Matrix Product"
   ]
  },
  {
   "cell_type": "code",
   "execution_count": null,
   "metadata": {},
   "outputs": [],
   "source": []
  }
 ],
 "metadata": {
  "kernelspec": {
   "display_name": "Python 3",
   "language": "python",
   "name": "python3"
  },
  "language_info": {
   "codemirror_mode": {
    "name": "ipython",
    "version": 3
   },
   "file_extension": ".py",
   "mimetype": "text/x-python",
   "name": "python",
   "nbconvert_exporter": "python",
   "pygments_lexer": "ipython3",
   "version": "3.6.8"
  },
  "latex_envs": {
   "LaTeX_envs_menu_present": true,
   "autoclose": false,
   "autocomplete": true,
   "bibliofile": "biblio.bib",
   "cite_by": "apalike",
   "current_citInitial": 1,
   "eqLabelWithNumbers": true,
   "eqNumInitial": 1,
   "hotkeys": {
    "equation": "Ctrl-E",
    "itemize": "Ctrl-I"
   },
   "labels_anchors": false,
   "latex_user_defs": false,
   "report_style_numbering": false,
   "user_envs_cfg": false
  },
  "varInspector": {
   "cols": {
    "lenName": 16,
    "lenType": 16,
    "lenVar": 40
   },
   "kernels_config": {
    "python": {
     "delete_cmd_postfix": "",
     "delete_cmd_prefix": "del ",
     "library": "var_list.py",
     "varRefreshCmd": "print(var_dic_list())"
    },
    "r": {
     "delete_cmd_postfix": ") ",
     "delete_cmd_prefix": "rm(",
     "library": "var_list.r",
     "varRefreshCmd": "cat(var_dic_list()) "
    }
   },
   "types_to_exclude": [
    "module",
    "function",
    "builtin_function_or_method",
    "instance",
    "_Feature"
   ],
   "window_display": false
  }
 },
 "nbformat": 4,
 "nbformat_minor": 2
}
