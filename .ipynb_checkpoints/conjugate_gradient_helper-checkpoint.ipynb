{
 "cells": [
  {
   "cell_type": "markdown",
   "metadata": {},
   "source": [
    "# Imports"
   ]
  },
  {
   "cell_type": "code",
   "execution_count": 1,
   "metadata": {
    "ExecuteTime": {
     "end_time": "2020-10-31T19:25:44.355242Z",
     "start_time": "2020-10-31T19:25:44.138484Z"
    }
   },
   "outputs": [],
   "source": [
    "import torch\n",
    "import torch.autograd as autograd"
   ]
  },
  {
   "cell_type": "markdown",
   "metadata": {},
   "source": [
    "# Testing Stuff"
   ]
  },
  {
   "cell_type": "code",
   "execution_count": 2,
   "metadata": {
    "ExecuteTime": {
     "end_time": "2020-10-31T19:25:44.363570Z",
     "start_time": "2020-10-31T19:25:44.356575Z"
    }
   },
   "outputs": [
    {
     "name": "stdout",
     "output_type": "stream",
     "text": [
      "tensor([[1., 1.],\n",
      "        [1., 1.]], requires_grad=True)\n",
      "tensor([[3., 3.],\n",
      "        [3., 3.]], grad_fn=<AddBackward0>)\n",
      "tensor([[27., 27.],\n",
      "        [27., 27.]], grad_fn=<MulBackward0>)\n",
      "tensor(27., grad_fn=<MeanBackward0>)\n",
      "(tensor([[4.5000, 4.5000],\n",
      "        [4.5000, 4.5000]]),)\n"
     ]
    }
   ],
   "source": [
    "x = torch.ones(2, 2, requires_grad=True)\n",
    "print(x)\n",
    "y = x + 2\n",
    "print(y)\n",
    "z = y * y * 3\n",
    "out = z.mean()\n",
    "\n",
    "print(z)\n",
    "print(out)\n",
    "\n",
    "\n",
    "print(autograd.grad(out, x))\n"
   ]
  },
  {
   "cell_type": "markdown",
   "metadata": {},
   "source": [
    "# Function to Avp"
   ]
  },
  {
   "cell_type": "code",
   "execution_count": 19,
   "metadata": {
    "ExecuteTime": {
     "end_time": "2020-10-31T19:32:02.438141Z",
     "start_time": "2020-10-31T19:32:02.427378Z"
    }
   },
   "outputs": [],
   "source": [
    "def avp(\n",
    "    loss_list,\n",
    "    param_list,\n",
    "    vector,\n",
    "    lr=1,\n",
    "    retain_graph=False,\n",
    "    transpose=False\n",
    "):\n",
    "    \"\"\"\n",
    "    :param vector_list: list of vectors for each player\n",
    "    :param loss_list: list of objective functions for each player\n",
    "    :param param_list: list of parameter vectors for each player\n",
    "    :param lr: learning rate\n",
    "    \"\"\"\n",
    "    # TODO(jjma): add error handling and assertions\n",
    "    # TODO(jjma): add transpose case\n",
    "    \n",
    "    prod_list = [torch.zeros(param.shape[0]) for param in param_list]\n",
    "    \n",
    "    for i, row_param in enumerate(param_list):\n",
    "        for j, (col_param, vector_elem) in enumerate(zip(param_list, vector)):\n",
    "            if i == j:\n",
    "                prod_list[i] += vector_elem\n",
    "                continue\n",
    "\n",
    "            loss = loss_list[i] if not transpose else loss_list[j]\n",
    "                \n",
    "            grad_param = autograd.grad(loss, col_param, \n",
    "                                       create_graph=retain_graph,\n",
    "                                       retain_graph=retain_graph,\n",
    "                                       allow_unused=True)\n",
    "            grad_param_vec = torch.cat([g.contiguous().view(-1) for g in grad_param])\n",
    "            grad_vec_prod = torch.dot(grad_param_vec, vector_elem)\n",
    "            \n",
    "            if torch.isnan(grad_param_vec).any():\n",
    "                raise ValueError('grad_param_vec nan')\n",
    "\n",
    "            hvp = autograd.grad(grad_vec_prod, row_param, \n",
    "                                retain_graph=retain_graph, \n",
    "                                allow_unused=True)\n",
    "            hvp_vec = torch.cat([g.contiguous().view(-1) for g in hvp])\n",
    "            \n",
    "            prod_list[i] += (lr * hvp_vec)\n",
    "           \n",
    "    Avp = torch.stack(prod_list)\n",
    "    if torch.isnan(Avp).any():\n",
    "        raise ValueError('Avp nan')\n",
    "    \n",
    "    return Avp\n",
    "    \n"
   ]
  },
  {
   "cell_type": "markdown",
   "metadata": {},
   "source": [
    "# Testing Meta-Matrix Product"
   ]
  },
  {
   "cell_type": "markdown",
   "metadata": {},
   "source": [
    "## Two Player Case"
   ]
  },
  {
   "cell_type": "code",
   "execution_count": 22,
   "metadata": {
    "ExecuteTime": {
     "end_time": "2020-10-31T19:34:11.254812Z",
     "start_time": "2020-10-31T19:34:11.244760Z"
    }
   },
   "outputs": [
    {
     "name": "stdout",
     "output_type": "stream",
     "text": [
      "tensor([[ 19.,  19.],\n",
      "        [-17., -17.]])\n",
      "tensor([[-17., -17.],\n",
      "        [ 19.,  19.]])\n"
     ]
    }
   ],
   "source": [
    "x_param = torch.tensor([1.0, 1.0], requires_grad=True)\n",
    "y_param = torch.tensor([-1.0, -1.0], requires_grad=True)\n",
    "\n",
    "# x_loss = torch.dot(x_param, x_param) * torch.dot(y_param, y_param)\n",
    "# y_loss =  - torch.dot(x_param, x_param) * torch.dot(y_param, y_param)\n",
    "\n",
    "x_loss = torch.sum(torch.pow(x_param, 3)) * torch.sum(torch.pow(y_param, 3))\n",
    "y_loss = - torch.sum(torch.pow(x_param, 3)) * torch.sum(torch.pow(y_param, 3))\n",
    "\n",
    "b = torch.tensor([[1.0, 1.0], [1.0, 1.0]])\n",
    "\n",
    "result1 = avp([x_loss, y_loss], [x_param, y_param], b, 1, transpose=False, retain_graph=True)\n",
    "result2 = avp([x_loss, y_loss], [x_param, y_param], b, 1, transpose=True, retain_graph=True)\n",
    "\n",
    "print(result1)\n",
    "print(result2)\n"
   ]
  },
  {
   "cell_type": "markdown",
   "metadata": {},
   "source": [
    "#  Three Player Case\n"
   ]
  },
  {
   "cell_type": "code",
   "execution_count": 24,
   "metadata": {
    "ExecuteTime": {
     "end_time": "2020-10-31T19:35:37.059703Z",
     "start_time": "2020-10-31T19:35:37.044006Z"
    }
   },
   "outputs": [
    {
     "name": "stdout",
     "output_type": "stream",
     "text": [
      "tensor([[73., 73.],\n",
      "        [73., 73.],\n",
      "        [73., 73.]])\n",
      "tensor([[73., 73.],\n",
      "        [73., 73.],\n",
      "        [73., 73.]])\n"
     ]
    }
   ],
   "source": [
    "x_param = torch.tensor([1.0, 1.0], requires_grad=True)\n",
    "y_param = torch.tensor([1.0, 1.0], requires_grad=True)\n",
    "z_param = torch.tensor([1.0, 1.0], requires_grad=True)\n",
    "x\n",
    "# x_loss = torch.dot(x_param, x_param) * torch.dot(y_param, y_param)\n",
    "# y_loss =  - torch.dot(x_param, x_param) * torch.dot(y_param, y_param)\n",
    "\n",
    "x_loss = torch.sum(torch.pow(x_param, 3)) * torch.sum(torch.pow(y_param, 3)) * torch.sum(torch.pow(z_param, 3))\n",
    "y_loss = torch.sum(torch.pow(x_param, 3)) * torch.sum(torch.pow(y_param, 3)) * torch.sum(torch.pow(z_param, 3))\n",
    "z_loss = torch.sum(torch.pow(x_param, 3)) * torch.sum(torch.pow(y_param, 3)) * torch.sum(torch.pow(z_param, 3))\n",
    "\n",
    "b = torch.tensor([[1.0, 1.0], [1.0, 1.0], [1.0, 1.0]])\n",
    "\n",
    "result1 = avp([x_loss, y_loss, z_loss], [x_param, y_param, z_param], b, 1, transpose=False, retain_graph=True)\n",
    "result2 = avp([x_loss, y_loss, z_loss], [x_param, y_param, z_param], b, 1, transpose=True, retain_graph=True)\n",
    "\n",
    "print(result1)\n",
    "print(result2)\n"
   ]
  },
  {
   "cell_type": "code",
   "execution_count": null,
   "metadata": {},
   "outputs": [],
   "source": []
  }
 ],
 "metadata": {
  "kernelspec": {
   "display_name": "Python 3",
   "language": "python",
   "name": "python3"
  },
  "language_info": {
   "codemirror_mode": {
    "name": "ipython",
    "version": 3
   },
   "file_extension": ".py",
   "mimetype": "text/x-python",
   "name": "python",
   "nbconvert_exporter": "python",
   "pygments_lexer": "ipython3",
   "version": "3.6.8"
  },
  "latex_envs": {
   "LaTeX_envs_menu_present": true,
   "autoclose": false,
   "autocomplete": true,
   "bibliofile": "biblio.bib",
   "cite_by": "apalike",
   "current_citInitial": 1,
   "eqLabelWithNumbers": true,
   "eqNumInitial": 1,
   "hotkeys": {
    "equation": "Ctrl-E",
    "itemize": "Ctrl-I"
   },
   "labels_anchors": false,
   "latex_user_defs": false,
   "report_style_numbering": false,
   "user_envs_cfg": false
  },
  "varInspector": {
   "cols": {
    "lenName": 16,
    "lenType": 16,
    "lenVar": 40
   },
   "kernels_config": {
    "python": {
     "delete_cmd_postfix": "",
     "delete_cmd_prefix": "del ",
     "library": "var_list.py",
     "varRefreshCmd": "print(var_dic_list())"
    },
    "r": {
     "delete_cmd_postfix": ") ",
     "delete_cmd_prefix": "rm(",
     "library": "var_list.r",
     "varRefreshCmd": "cat(var_dic_list()) "
    }
   },
   "types_to_exclude": [
    "module",
    "function",
    "builtin_function_or_method",
    "instance",
    "_Feature"
   ],
   "window_display": false
  }
 },
 "nbformat": 4,
 "nbformat_minor": 2
}
