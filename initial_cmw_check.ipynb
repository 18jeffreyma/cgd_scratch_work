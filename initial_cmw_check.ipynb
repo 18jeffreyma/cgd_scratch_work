{
 "cells": [
  {
   "cell_type": "code",
   "execution_count": 1,
   "metadata": {
    "ExecuteTime": {
     "end_time": "2020-12-04T00:00:38.363776Z",
     "start_time": "2020-12-04T00:00:38.206344Z"
    }
   },
   "outputs": [],
   "source": [
    "import torch\n",
    "import cmw_utils"
   ]
  },
  {
   "cell_type": "code",
   "execution_count": 2,
   "metadata": {
    "ExecuteTime": {
     "end_time": "2020-12-03T08:35:48.308349Z",
     "start_time": "2020-12-03T08:35:48.247211Z"
    }
   },
   "outputs": [
    {
     "name": "stdout",
     "output_type": "stream",
     "text": [
      "[tensor([32.5000, 32.5000], grad_fn=<AddBackward0>), tensor([-31.5000, -31.5000], grad_fn=<AddBackward0>)]\n",
      "[tensor([-31.5000, -31.5000], grad_fn=<AddBackward0>), tensor([32.5000, 32.5000], grad_fn=<AddBackward0>)]\n"
     ]
    }
   ],
   "source": [
    "x_param = torch.tensor([2.0, 2.0], requires_grad=True)\n",
    "y_param = torch.tensor([2.0, 2.0], requires_grad=True)\n",
    "\n",
    "# x_loss = torch.dot(x_param, x_param) * torch.dot(y_param, y_param)\n",
    "# y_loss =  - torch.dot(x_param, x_param) * torch.dot(y_param, y_param)\n",
    "\n",
    "x_loss = torch.sum(torch.pow(x_param, 2)) * torch.sum(torch.pow(y_param, 2))\n",
    "y_loss = - torch.sum(torch.pow(x_param, 2)) * torch.sum(torch.pow(y_param, 2))\n",
    "\n",
    "b1 = torch.tensor([1.0, 1.0])\n",
    "b2 = torch.tensor([1.0, 1.0])\n",
    "\n",
    "\n",
    "result1 = cmw_utils.avp([x_loss, y_loss], [x_param, y_param], [b1, b2], transpose=False, retain_graph=True)\n",
    "result2 = cmw_utils.avp([x_loss, y_loss], [x_param, y_param], [b1, b2], transpose=True, retain_graph=True)\n",
    "\n",
    "print(result1)\n",
    "print(result2)\n"
   ]
  },
  {
   "cell_type": "code",
   "execution_count": 2,
   "metadata": {
    "ExecuteTime": {
     "end_time": "2020-12-04T00:00:39.888962Z",
     "start_time": "2020-12-04T00:00:39.878225Z"
    }
   },
   "outputs": [
    {
     "name": "stdout",
     "output_type": "stream",
     "text": [
      "[tensor([0.4066], requires_grad=True), tensor([1.], requires_grad=True)]\n"
     ]
    }
   ],
   "source": [
    "x_param = torch.tensor([1.0], requires_grad=True)\n",
    "y_param = torch.tensor([1.0], requires_grad=True)\n",
    "\n",
    "alpha = 1.\n",
    "\n",
    "x_loss = alpha * (torch.sum(x_param) - 0.1) * (torch.sum(y_param) - 0.1)\n",
    "y_loss = - alpha * (torch.sum(x_param) - 0.1) * (torch.sum(y_param) - 0.1)\n",
    "\n",
    "nash_list, n_iter = cmw_utils.metamatrix_conjugate_gradient(\n",
    "    [x_loss, y_loss], [x_param, y_param])\n",
    "\n",
    "new_params = cmw_utils.project_update(nash_list, [x_param, y_param])\n",
    "print(new_params)"
   ]
  },
  {
   "cell_type": "code",
   "execution_count": 4,
   "metadata": {
    "ExecuteTime": {
     "end_time": "2020-12-04T00:01:21.977321Z",
     "start_time": "2020-12-04T00:01:21.563213Z"
    }
   },
   "outputs": [
    {
     "name": "stdout",
     "output_type": "stream",
     "text": [
      "[tensor([0.2000], requires_grad=True), tensor([0.2000], requires_grad=True)]\n",
      "[tensor([0.1980], requires_grad=True), tensor([0.2020], requires_grad=True)]\n",
      "[tensor([0.1959], requires_grad=True), tensor([0.2039], requires_grad=True)]\n",
      "[tensor([0.1939], requires_grad=True), tensor([0.2058], requires_grad=True)]\n",
      "[tensor([0.1918], requires_grad=True), tensor([0.2077], requires_grad=True)]\n",
      "[tensor([0.1897], requires_grad=True), tensor([0.2096], requires_grad=True)]\n",
      "[tensor([0.1876], requires_grad=True), tensor([0.2115], requires_grad=True)]\n",
      "[tensor([0.1855], requires_grad=True), tensor([0.2133], requires_grad=True)]\n",
      "[tensor([0.1834], requires_grad=True), tensor([0.2151], requires_grad=True)]\n",
      "[tensor([0.1812], requires_grad=True), tensor([0.2168], requires_grad=True)]\n",
      "[tensor([0.1791], requires_grad=True), tensor([0.2185], requires_grad=True)]\n",
      "[tensor([0.1770], requires_grad=True), tensor([0.2202], requires_grad=True)]\n",
      "[tensor([0.1748], requires_grad=True), tensor([0.2219], requires_grad=True)]\n",
      "[tensor([0.1727], requires_grad=True), tensor([0.2235], requires_grad=True)]\n",
      "[tensor([0.1705], requires_grad=True), tensor([0.2251], requires_grad=True)]\n",
      "[tensor([0.1684], requires_grad=True), tensor([0.2266], requires_grad=True)]\n",
      "[tensor([0.1662], requires_grad=True), tensor([0.2281], requires_grad=True)]\n",
      "[tensor([0.1641], requires_grad=True), tensor([0.2296], requires_grad=True)]\n",
      "[tensor([0.1620], requires_grad=True), tensor([0.2310], requires_grad=True)]\n",
      "[tensor([0.1598], requires_grad=True), tensor([0.2324], requires_grad=True)]\n",
      "[tensor([0.1577], requires_grad=True), tensor([0.2338], requires_grad=True)]\n",
      "[tensor([0.1556], requires_grad=True), tensor([0.2351], requires_grad=True)]\n",
      "[tensor([0.1535], requires_grad=True), tensor([0.2363], requires_grad=True)]\n",
      "[tensor([0.1514], requires_grad=True), tensor([0.2376], requires_grad=True)]\n",
      "[tensor([0.1493], requires_grad=True), tensor([0.2387], requires_grad=True)]\n",
      "[tensor([0.1472], requires_grad=True), tensor([0.2399], requires_grad=True)]\n",
      "[tensor([0.1452], requires_grad=True), tensor([0.2409], requires_grad=True)]\n",
      "[tensor([0.1431], requires_grad=True), tensor([0.2420], requires_grad=True)]\n",
      "[tensor([0.1411], requires_grad=True), tensor([0.2430], requires_grad=True)]\n",
      "[tensor([0.1391], requires_grad=True), tensor([0.2439], requires_grad=True)]\n",
      "[tensor([0.1371], requires_grad=True), tensor([0.2448], requires_grad=True)]\n",
      "[tensor([0.1351], requires_grad=True), tensor([0.2457], requires_grad=True)]\n",
      "[tensor([0.1331], requires_grad=True), tensor([0.2465], requires_grad=True)]\n",
      "[tensor([0.1312], requires_grad=True), tensor([0.2473], requires_grad=True)]\n",
      "[tensor([0.1293], requires_grad=True), tensor([0.2480], requires_grad=True)]\n",
      "[tensor([0.1273], requires_grad=True), tensor([0.2487], requires_grad=True)]\n",
      "[tensor([0.1255], requires_grad=True), tensor([0.2493], requires_grad=True)]\n",
      "[tensor([0.1236], requires_grad=True), tensor([0.2499], requires_grad=True)]\n",
      "[tensor([0.1217], requires_grad=True), tensor([0.2505], requires_grad=True)]\n",
      "[tensor([0.1199], requires_grad=True), tensor([0.2510], requires_grad=True)]\n",
      "[tensor([0.1181], requires_grad=True), tensor([0.2514], requires_grad=True)]\n",
      "[tensor([0.1163], requires_grad=True), tensor([0.2518], requires_grad=True)]\n",
      "[tensor([0.1146], requires_grad=True), tensor([0.2522], requires_grad=True)]\n",
      "[tensor([0.1128], requires_grad=True), tensor([0.2525], requires_grad=True)]\n",
      "[tensor([0.1111], requires_grad=True), tensor([0.2528], requires_grad=True)]\n",
      "[tensor([0.1094], requires_grad=True), tensor([0.2530], requires_grad=True)]\n",
      "[tensor([0.1078], requires_grad=True), tensor([0.2532], requires_grad=True)]\n",
      "[tensor([0.1061], requires_grad=True), tensor([0.2534], requires_grad=True)]\n",
      "[tensor([0.1045], requires_grad=True), tensor([0.2535], requires_grad=True)]\n",
      "[tensor([0.1029], requires_grad=True), tensor([0.2536], requires_grad=True)]\n",
      "[tensor([0.1014], requires_grad=True), tensor([0.2536], requires_grad=True)]\n",
      "[tensor([0.0998], requires_grad=True), tensor([0.2536], requires_grad=True)]\n",
      "[tensor([0.0983], requires_grad=True), tensor([0.2536], requires_grad=True)]\n",
      "[tensor([0.0968], requires_grad=True), tensor([0.2535], requires_grad=True)]\n",
      "[tensor([0.0953], requires_grad=True), tensor([0.2534], requires_grad=True)]\n",
      "[tensor([0.0939], requires_grad=True), tensor([0.2532], requires_grad=True)]\n",
      "[tensor([0.0925], requires_grad=True), tensor([0.2530], requires_grad=True)]\n",
      "[tensor([0.0910], requires_grad=True), tensor([0.2528], requires_grad=True)]\n",
      "[tensor([0.0897], requires_grad=True), tensor([0.2525], requires_grad=True)]\n",
      "[tensor([0.0883], requires_grad=True), tensor([0.2522], requires_grad=True)]\n",
      "[tensor([0.0870], requires_grad=True), tensor([0.2519], requires_grad=True)]\n",
      "[tensor([0.0857], requires_grad=True), tensor([0.2516], requires_grad=True)]\n",
      "[tensor([0.0844], requires_grad=True), tensor([0.2512], requires_grad=True)]\n",
      "[tensor([0.0831], requires_grad=True), tensor([0.2507], requires_grad=True)]\n",
      "[tensor([0.0819], requires_grad=True), tensor([0.2503], requires_grad=True)]\n",
      "[tensor([0.0807], requires_grad=True), tensor([0.2498], requires_grad=True)]\n",
      "[tensor([0.0795], requires_grad=True), tensor([0.2493], requires_grad=True)]\n",
      "[tensor([0.0783], requires_grad=True), tensor([0.2487], requires_grad=True)]\n",
      "[tensor([0.0772], requires_grad=True), tensor([0.2482], requires_grad=True)]\n",
      "[tensor([0.0760], requires_grad=True), tensor([0.2476], requires_grad=True)]\n",
      "[tensor([0.0749], requires_grad=True), tensor([0.2470], requires_grad=True)]\n",
      "[tensor([0.0738], requires_grad=True), tensor([0.2463], requires_grad=True)]\n",
      "[tensor([0.0728], requires_grad=True), tensor([0.2456], requires_grad=True)]\n",
      "[tensor([0.0717], requires_grad=True), tensor([0.2450], requires_grad=True)]\n",
      "[tensor([0.0707], requires_grad=True), tensor([0.2442], requires_grad=True)]\n",
      "[tensor([0.0697], requires_grad=True), tensor([0.2435], requires_grad=True)]\n",
      "[tensor([0.0687], requires_grad=True), tensor([0.2427], requires_grad=True)]\n",
      "[tensor([0.0677], requires_grad=True), tensor([0.2420], requires_grad=True)]\n",
      "[tensor([0.0668], requires_grad=True), tensor([0.2412], requires_grad=True)]\n",
      "[tensor([0.0658], requires_grad=True), tensor([0.2403], requires_grad=True)]\n",
      "[tensor([0.0649], requires_grad=True), tensor([0.2395], requires_grad=True)]\n",
      "[tensor([0.0640], requires_grad=True), tensor([0.2386], requires_grad=True)]\n",
      "[tensor([0.0632], requires_grad=True), tensor([0.2378], requires_grad=True)]\n",
      "[tensor([0.0623], requires_grad=True), tensor([0.2369], requires_grad=True)]\n",
      "[tensor([0.0615], requires_grad=True), tensor([0.2360], requires_grad=True)]\n",
      "[tensor([0.0606], requires_grad=True), tensor([0.2350], requires_grad=True)]\n",
      "[tensor([0.0598], requires_grad=True), tensor([0.2341], requires_grad=True)]\n",
      "[tensor([0.0590], requires_grad=True), tensor([0.2331], requires_grad=True)]\n",
      "[tensor([0.0583], requires_grad=True), tensor([0.2322], requires_grad=True)]\n",
      "[tensor([0.0575], requires_grad=True), tensor([0.2312], requires_grad=True)]\n",
      "[tensor([0.0568], requires_grad=True), tensor([0.2302], requires_grad=True)]\n",
      "[tensor([0.0560], requires_grad=True), tensor([0.2292], requires_grad=True)]\n",
      "[tensor([0.0553], requires_grad=True), tensor([0.2281], requires_grad=True)]\n",
      "[tensor([0.0546], requires_grad=True), tensor([0.2271], requires_grad=True)]\n",
      "[tensor([0.0539], requires_grad=True), tensor([0.2261], requires_grad=True)]\n",
      "[tensor([0.0533], requires_grad=True), tensor([0.2250], requires_grad=True)]\n",
      "[tensor([0.0526], requires_grad=True), tensor([0.2240], requires_grad=True)]\n",
      "[tensor([0.0520], requires_grad=True), tensor([0.2229], requires_grad=True)]\n",
      "[tensor([0.0513], requires_grad=True), tensor([0.2218], requires_grad=True)]\n",
      "[tensor([0.0507], requires_grad=True), tensor([0.2207], requires_grad=True)]\n",
      "[tensor([0.0501], requires_grad=True), tensor([0.2196], requires_grad=True)]\n"
     ]
    }
   ],
   "source": [
    "x_param = torch.tensor([0.2], requires_grad=True)\n",
    "y_param = torch.tensor([0.2], requires_grad=True)\n",
    "\n",
    "alpha = 0.1\n",
    "num_iter = 100\n",
    "\n",
    "param_list = [x_param, y_param]\n",
    "\n",
    "for n in range(num_iter):\n",
    "    print(param_list)\n",
    "    \n",
    "    x_loss = alpha * (torch.sum(param_list[0]) - 0.1) * (torch.sum(param_list[1]) - 0.1)\n",
    "    y_loss = - alpha * (torch.sum(param_list[0]) - 0.1) * (torch.sum(param_list[1]) - 0.1)\n",
    "    \n",
    "    nash_list, n_iter = cmw_utils.metamatrix_conjugate_gradient(\n",
    "        [x_loss, y_loss], param_list)\n",
    "\n",
    "    param_list = cmw_utils.project_update(nash_list, param_list)\n",
    "    \n",
    "print(param_list)"
   ]
  },
  {
   "cell_type": "code",
   "execution_count": null,
   "metadata": {},
   "outputs": [],
   "source": []
  }
 ],
 "metadata": {
  "kernelspec": {
   "display_name": "Python 3",
   "language": "python",
   "name": "python3"
  },
  "language_info": {
   "codemirror_mode": {
    "name": "ipython",
    "version": 3
   },
   "file_extension": ".py",
   "mimetype": "text/x-python",
   "name": "python",
   "nbconvert_exporter": "python",
   "pygments_lexer": "ipython3",
   "version": "3.6.8"
  },
  "latex_envs": {
   "LaTeX_envs_menu_present": true,
   "autoclose": false,
   "autocomplete": true,
   "bibliofile": "biblio.bib",
   "cite_by": "apalike",
   "current_citInitial": 1,
   "eqLabelWithNumbers": true,
   "eqNumInitial": 1,
   "hotkeys": {
    "equation": "Ctrl-E",
    "itemize": "Ctrl-I"
   },
   "labels_anchors": false,
   "latex_user_defs": false,
   "report_style_numbering": false,
   "user_envs_cfg": false
  },
  "varInspector": {
   "cols": {
    "lenName": 16,
    "lenType": 16,
    "lenVar": 40
   },
   "kernels_config": {
    "python": {
     "delete_cmd_postfix": "",
     "delete_cmd_prefix": "del ",
     "library": "var_list.py",
     "varRefreshCmd": "print(var_dic_list())"
    },
    "r": {
     "delete_cmd_postfix": ") ",
     "delete_cmd_prefix": "rm(",
     "library": "var_list.r",
     "varRefreshCmd": "cat(var_dic_list()) "
    }
   },
   "types_to_exclude": [
    "module",
    "function",
    "builtin_function_or_method",
    "instance",
    "_Feature"
   ],
   "window_display": false
  }
 },
 "nbformat": 4,
 "nbformat_minor": 2
}
