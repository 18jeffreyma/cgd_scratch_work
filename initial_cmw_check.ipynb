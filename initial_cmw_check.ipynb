{
 "cells": [
  {
   "cell_type": "code",
   "execution_count": 1,
   "metadata": {
    "ExecuteTime": {
     "end_time": "2020-11-25T08:59:00.155238Z",
     "start_time": "2020-11-25T08:58:59.995480Z"
    }
   },
   "outputs": [],
   "source": [
    "import torch\n",
    "import cmw_utils"
   ]
  },
  {
   "cell_type": "code",
   "execution_count": 4,
   "metadata": {
    "ExecuteTime": {
     "end_time": "2020-11-25T08:23:25.999075Z",
     "start_time": "2020-11-25T08:23:25.996083Z"
    }
   },
   "outputs": [],
   "source": []
  },
  {
   "cell_type": "code",
   "execution_count": 7,
   "metadata": {
    "ExecuteTime": {
     "end_time": "2020-11-25T08:30:35.263192Z",
     "start_time": "2020-11-25T08:30:35.251275Z"
    }
   },
   "outputs": [
    {
     "name": "stdout",
     "output_type": "stream",
     "text": [
      "[tensor([32.5000, 32.5000], grad_fn=<AddBackward0>), tensor([-31.5000, -31.5000], grad_fn=<AddBackward0>)]\n",
      "[tensor([-31.5000, -31.5000], grad_fn=<AddBackward0>), tensor([32.5000, 32.5000], grad_fn=<AddBackward0>)]\n"
     ]
    }
   ],
   "source": [
    "x_param = torch.tensor([2.0, 2.0], requires_grad=True)\n",
    "y_param = torch.tensor([2.0, 2.0], requires_grad=True)\n",
    "\n",
    "# x_loss = torch.dot(x_param, x_param) * torch.dot(y_param, y_param)\n",
    "# y_loss =  - torch.dot(x_param, x_param) * torch.dot(y_param, y_param)\n",
    "\n",
    "x_loss = torch.sum(torch.pow(x_param, 2)) * torch.sum(torch.pow(y_param, 2))\n",
    "y_loss = - torch.sum(torch.pow(x_param, 2)) * torch.sum(torch.pow(y_param, 2))\n",
    "\n",
    "b1 = torch.tensor([1.0, 1.0])\n",
    "b2 = torch.tensor([1.0, 1.0])\n",
    "\n",
    "\n",
    "result1 = cmw_utils.avp([x_loss, y_loss], [x_param, y_param], [b1, b2], transpose=False, retain_graph=True)\n",
    "result2 = cmw_utils.avp([x_loss, y_loss], [x_param, y_param], [b1, b2], transpose=True, retain_graph=True)\n",
    "\n",
    "print(result1)\n",
    "print(result2)\n"
   ]
  },
  {
   "cell_type": "code",
   "execution_count": 12,
   "metadata": {
    "ExecuteTime": {
     "end_time": "2020-11-25T09:05:16.606485Z",
     "start_time": "2020-11-25T09:05:16.596579Z"
    }
   },
   "outputs": [
    {
     "name": "stdout",
     "output_type": "stream",
     "text": [
      "[tensor([0.0000, 0.6606]), tensor([0.0000, 0.8450])]\n"
     ]
    }
   ],
   "source": [
    "x_param = torch.tensor([0.0, 2.0], requires_grad=True)\n",
    "y_param = torch.tensor([0.0, 2.0], requires_grad=True)\n",
    "\n",
    "x_loss = torch.sum(torch.pow(x_param, 2)) * torch.sum(torch.pow(y_param, 2))\n",
    "y_loss = - torch.sum(torch.pow(x_param, 2)) * torch.sum(torch.pow(y_param, 2))\n",
    "\n",
    "nash_list, n_iter = cmw_utils.metamatrix_conjugate_gradient(\n",
    "    [x_loss, y_loss], [x_param, y_param])\n",
    "\n",
    "new_params = cmw_utils.project_update(nash_list, [x_param, y_param])\n",
    "print(new_params)"
   ]
  },
  {
   "cell_type": "code",
   "execution_count": null,
   "metadata": {},
   "outputs": [],
   "source": []
  },
  {
   "cell_type": "code",
   "execution_count": null,
   "metadata": {},
   "outputs": [],
   "source": []
  }
 ],
 "metadata": {
  "kernelspec": {
   "display_name": "Python 3",
   "language": "python",
   "name": "python3"
  },
  "language_info": {
   "codemirror_mode": {
    "name": "ipython",
    "version": 3
   },
   "file_extension": ".py",
   "mimetype": "text/x-python",
   "name": "python",
   "nbconvert_exporter": "python",
   "pygments_lexer": "ipython3",
   "version": "3.6.8"
  },
  "latex_envs": {
   "LaTeX_envs_menu_present": true,
   "autoclose": false,
   "autocomplete": true,
   "bibliofile": "biblio.bib",
   "cite_by": "apalike",
   "current_citInitial": 1,
   "eqLabelWithNumbers": true,
   "eqNumInitial": 1,
   "hotkeys": {
    "equation": "Ctrl-E",
    "itemize": "Ctrl-I"
   },
   "labels_anchors": false,
   "latex_user_defs": false,
   "report_style_numbering": false,
   "user_envs_cfg": false
  },
  "varInspector": {
   "cols": {
    "lenName": 16,
    "lenType": 16,
    "lenVar": 40
   },
   "kernels_config": {
    "python": {
     "delete_cmd_postfix": "",
     "delete_cmd_prefix": "del ",
     "library": "var_list.py",
     "varRefreshCmd": "print(var_dic_list())"
    },
    "r": {
     "delete_cmd_postfix": ") ",
     "delete_cmd_prefix": "rm(",
     "library": "var_list.r",
     "varRefreshCmd": "cat(var_dic_list()) "
    }
   },
   "types_to_exclude": [
    "module",
    "function",
    "builtin_function_or_method",
    "instance",
    "_Feature"
   ],
   "window_display": false
  }
 },
 "nbformat": 4,
 "nbformat_minor": 2
}
