{
 "cells": [
  {
   "cell_type": "markdown",
   "metadata": {},
   "source": [
    "# Imports"
   ]
  },
  {
   "cell_type": "code",
   "execution_count": 1,
   "metadata": {
    "ExecuteTime": {
     "end_time": "2020-11-06T04:23:15.200506Z",
     "start_time": "2020-11-06T04:23:15.006892Z"
    }
   },
   "outputs": [],
   "source": [
    "import torch\n",
    "import torch.autograd as autograd\n",
    "import utils"
   ]
  },
  {
   "cell_type": "markdown",
   "metadata": {},
   "source": [
    "# Testing Meta-Matrix Product"
   ]
  },
  {
   "cell_type": "markdown",
   "metadata": {},
   "source": [
    "## Two Player Case"
   ]
  },
  {
   "cell_type": "code",
   "execution_count": 6,
   "metadata": {
    "ExecuteTime": {
     "end_time": "2020-11-06T04:38:55.261118Z",
     "start_time": "2020-11-06T04:38:55.250696Z"
    }
   },
   "outputs": [
    {
     "name": "stdout",
     "output_type": "stream",
     "text": [
      "[tensor([9., 9.]), tensor([-7., -7.])]\n",
      "[tensor([-7., -7.]), tensor([9., 9.])]\n"
     ]
    }
   ],
   "source": [
    "x_param = torch.tensor([1.0, 1.0], requires_grad=True)\n",
    "y_param = torch.tensor([1.0, 1.0], requires_grad=True)\n",
    "\n",
    "# x_loss = torch.dot(x_param, x_param) * torch.dot(y_param, y_param)\n",
    "# y_loss =  - torch.dot(x_param, x_param) * torch.dot(y_param, y_param)\n",
    "\n",
    "x_loss = torch.sum(torch.pow(x_param, 2)) * torch.sum(torch.pow(y_param, 2))\n",
    "y_loss = - torch.sum(torch.pow(x_param, 2)) * torch.sum(torch.pow(y_param, 2))\n",
    "\n",
    "b1 = torch.tensor([1.0, 1.0])\n",
    "b2 = torch.tensor([1.0, 1.0])\n",
    "\n",
    "\n",
    "result1 = utils.avp([x_loss, y_loss], [x_param, y_param], [b1, b2], [1, 1], transpose=False, retain_graph=True)\n",
    "result2 = utils.avp([x_loss, y_loss], [x_param, y_param], [b1, b2], [1, 1], transpose=True, retain_graph=True)\n",
    "\n",
    "print(result1)\n",
    "print(result2)\n"
   ]
  },
  {
   "cell_type": "markdown",
   "metadata": {},
   "source": [
    "#  Three Player Case\n"
   ]
  },
  {
   "cell_type": "code",
   "execution_count": 3,
   "metadata": {
    "ExecuteTime": {
     "end_time": "2020-11-06T04:23:15.229262Z",
     "start_time": "2020-11-06T04:23:15.214763Z"
    }
   },
   "outputs": [
    {
     "name": "stdout",
     "output_type": "stream",
     "text": [
      "[tensor([73., 73.]), tensor([73., 73.]), tensor([73., 73.])]\n",
      "[tensor([73., 73.]), tensor([73., 73.]), tensor([73., 73.])]\n"
     ]
    }
   ],
   "source": [
    "x_param = torch.tensor([1.0, 1.0], requires_grad=True)\n",
    "y_param = torch.tensor([1.0, 1.0], requires_grad=True)\n",
    "z_param = torch.tensor([1.0, 1.0], requires_grad=True)\n",
    "\n",
    "# x_loss = torch.dot(x_param, x_param) * torch.dot(y_param, y_param)\n",
    "# y_loss =  - torch.dot(x_param, x_param) * torch.dot(y_param, y_param)\n",
    "\n",
    "x_loss = torch.sum(torch.pow(x_param, 3)) * torch.sum(torch.pow(y_param, 3)) * torch.sum(torch.pow(z_param, 3))\n",
    "y_loss = torch.sum(torch.pow(x_param, 3)) * torch.sum(torch.pow(y_param, 3)) * torch.sum(torch.pow(z_param, 3))\n",
    "z_loss = torch.sum(torch.pow(x_param, 3)) * torch.sum(torch.pow(y_param, 3)) * torch.sum(torch.pow(z_param, 3))\n",
    "\n",
    "b = torch.tensor([[1.0, 1.0], [1.0, 1.0], [1.0, 1.0]])\n",
    "\n",
    "result1 = utils.avp([x_loss, y_loss, z_loss], [x_param, y_param, z_param], b, [1, 1, 1], transpose=False, retain_graph=True)\n",
    "result2 = utils.avp([x_loss, y_loss, z_loss], [x_param, y_param, z_param], b, [1, 1, 1], transpose=True, retain_graph=True)\n",
    "\n",
    "print(result1)\n",
    "print(result2)\n"
   ]
  },
  {
   "cell_type": "markdown",
   "metadata": {},
   "source": [
    "# Testing Meta-Matrix Conjugate Gradient\n",
    "\n",
    "We test in the two player case with the following objective functions. Since the two player case is the same as presented in the original CGD paper, this conjugate gradient should return the same result as calculated by hand from the closed form solution in the paper.\n",
    "\n",
    "\n",
    "\\begin{gather}\n",
    "f(x,y) = x^2 y^2 \\;\\;\\;\\;\\; g(x,y) = -x^2 y^2\n",
    "\\end{gather}"
   ]
  },
  {
   "cell_type": "code",
   "execution_count": 8,
   "metadata": {
    "ExecuteTime": {
     "end_time": "2020-11-06T04:42:15.967176Z",
     "start_time": "2020-11-06T04:42:15.956757Z"
    }
   },
   "outputs": [
    {
     "name": "stdout",
     "output_type": "stream",
     "text": [
      "[tensor([-0.0429, -0.0429]), tensor([0.0366, 0.0366])]\n",
      "0\n"
     ]
    }
   ],
   "source": [
    "x = torch.tensor([1.0, 1.0], requires_grad=True)\n",
    "y = torch.tensor([1.0, 1.0], requires_grad=True)\n",
    "\n",
    "x_loss2 = torch.sum(torch.pow(x, 2)) * torch.sum(torch.pow(y, 2))\n",
    "y_loss2 = - torch.sum(torch.pow(x, 2)) * torch.sum(torch.pow(y, 2))\n",
    "\n",
    "soln, n_iter = utils.metamatrix_conjugate_gradient(\n",
    "    [x_loss2, y_loss2], [x, y], lr_list=[0.01, 0.01])\n",
    "\n",
    "print(soln)\n",
    "print(n_iter)\n",
    "\n",
    "\n"
   ]
  },
  {
   "cell_type": "code",
   "execution_count": null,
   "metadata": {},
   "outputs": [],
   "source": []
  }
 ],
 "metadata": {
  "kernelspec": {
   "display_name": "Python 3",
   "language": "python",
   "name": "python3"
  },
  "language_info": {
   "codemirror_mode": {
    "name": "ipython",
    "version": 3
   },
   "file_extension": ".py",
   "mimetype": "text/x-python",
   "name": "python",
   "nbconvert_exporter": "python",
   "pygments_lexer": "ipython3",
   "version": "3.6.8"
  },
  "latex_envs": {
   "LaTeX_envs_menu_present": true,
   "autoclose": false,
   "autocomplete": true,
   "bibliofile": "biblio.bib",
   "cite_by": "apalike",
   "current_citInitial": 1,
   "eqLabelWithNumbers": true,
   "eqNumInitial": 1,
   "hotkeys": {
    "equation": "Ctrl-E",
    "itemize": "Ctrl-I"
   },
   "labels_anchors": false,
   "latex_user_defs": false,
   "report_style_numbering": false,
   "user_envs_cfg": false
  },
  "varInspector": {
   "cols": {
    "lenName": 16,
    "lenType": 16,
    "lenVar": 40
   },
   "kernels_config": {
    "python": {
     "delete_cmd_postfix": "",
     "delete_cmd_prefix": "del ",
     "library": "var_list.py",
     "varRefreshCmd": "print(var_dic_list())"
    },
    "r": {
     "delete_cmd_postfix": ") ",
     "delete_cmd_prefix": "rm(",
     "library": "var_list.r",
     "varRefreshCmd": "cat(var_dic_list()) "
    }
   },
   "types_to_exclude": [
    "module",
    "function",
    "builtin_function_or_method",
    "instance",
    "_Feature"
   ],
   "window_display": false
  }
 },
 "nbformat": 4,
 "nbformat_minor": 2
}
