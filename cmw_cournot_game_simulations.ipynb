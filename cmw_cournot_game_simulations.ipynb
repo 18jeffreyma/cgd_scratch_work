{
 "cells": [
  {
   "cell_type": "markdown",
   "metadata": {},
   "source": [
    "# Imports"
   ]
  },
  {
   "cell_type": "code",
   "execution_count": 1,
   "metadata": {
    "ExecuteTime": {
     "end_time": "2020-12-17T09:06:41.385918Z",
     "start_time": "2020-12-17T09:06:41.186930Z"
    }
   },
   "outputs": [],
   "source": [
    "import torch\n",
    "import torch.autograd\n",
    "\n",
    "import cmd_utils\n",
    "import potentials"
   ]
  },
  {
   "cell_type": "code",
   "execution_count": 16,
   "metadata": {
    "ExecuteTime": {
     "end_time": "2020-12-17T09:12:35.282121Z",
     "start_time": "2020-12-17T09:12:34.680585Z"
    },
    "scrolled": false
   },
   "outputs": [
    {
     "name": "stdout",
     "output_type": "stream",
     "text": [
      "[tensor([22.4999], requires_grad=True), tensor([22.5002], requires_grad=True), tensor([22.4999], requires_grad=True)]\n",
      "[tensor([-506.2480], grad_fn=<NegBackward>), tensor([-506.2548], grad_fn=<NegBackward>), tensor([-506.2480], grad_fn=<NegBackward>)]\n"
     ]
    }
   ],
   "source": [
    "# Simple linear price, linear cost game.\n",
    "def player_payoffs(quantity_list):\n",
    "    quantity_tensor = torch.stack(quantity_list)\n",
    "    price = torch.max(100 - torch.sum(quantity_tensor),\n",
    "                      torch.tensor(0., requires_grad=True))\n",
    "                      \n",
    "    payoffs = []\n",
    "    for i, quantity in enumerate(quantity_tensor):\n",
    "        # Negative, since CGD minimizes player objectives.\n",
    "        payoffs.append(- (quantity * price - 10 * quantity))\n",
    "        \n",
    "    return payoffs\n",
    "\n",
    "# Number of iterations and setting up game.\n",
    "num_iterations = 100\n",
    "bregman = potentials.shannon_entropy(0.01)\n",
    "\n",
    "# Define individual sellers quantities\n",
    "p1 = torch.tensor([10.], requires_grad=True)\n",
    "p2 = torch.tensor([20.], requires_grad=True)\n",
    "p3 = torch.tensor([10.], requires_grad=True)\n",
    "\n",
    "player_list = [p1, p2, p3]\n",
    "prev_soln = None\n",
    "\n",
    "for i in range(num_iterations):\n",
    "    payoffs = player_payoffs(player_list)\n",
    "    nash_list, n_iter = cmd_utils.metamatrix_conjugate_gradient(\n",
    "        payoffs, \n",
    "        player_list,\n",
    "        vector_list=None,\n",
    "        n_steps=10,\n",
    "        bregman=bregman,\n",
    "    )\n",
    "    prev_soln = nash_list\n",
    "    player_list = cmd_utils.exp_map(player_list, nash_list, bregman=bregman)\n",
    "\n",
    "print(player_list)\n",
    "print(payoffs)\n"
   ]
  },
  {
   "cell_type": "code",
   "execution_count": 27,
   "metadata": {
    "ExecuteTime": {
     "end_time": "2020-12-17T09:16:08.911955Z",
     "start_time": "2020-12-17T09:16:08.411621Z"
    }
   },
   "outputs": [
    {
     "name": "stdout",
     "output_type": "stream",
     "text": [
      "[tensor([4.2426], requires_grad=True), tensor([4.2426], requires_grad=True), tensor([4.2426], requires_grad=True)]\n",
      "[tensor([-152.7351], grad_fn=<NegBackward>), tensor([-152.7350], grad_fn=<NegBackward>), tensor([-152.7350], grad_fn=<NegBackward>)]\n"
     ]
    }
   ],
   "source": [
    "# Simple linear price, linear cost game.\n",
    "def player_payoffs(quantity_list):\n",
    "    quantity_tensor = torch.stack(quantity_list)\n",
    "    price = torch.max(\n",
    "        100 - torch.sum(torch.pow(quantity_tensor, 2)),\n",
    "        torch.tensor(0., requires_grad=True)\n",
    "    )\n",
    "                      \n",
    "    payoffs = []\n",
    "    for i, quantity in enumerate(quantity_tensor):\n",
    "        # Negative, since CGD minimizes player objectives.\n",
    "        payoffs.append(- (quantity * price - 10 * quantity))\n",
    "        \n",
    "    return payoffs\n",
    "\n",
    "# Number of iterations and setting up game.\n",
    "num_iterations = 100\n",
    "bregman = potentials.shannon_entropy(0.01)\n",
    "\n",
    "# Define individual sellers quantities\n",
    "p1 = torch.tensor([1.], requires_grad=True)\n",
    "p2 = torch.tensor([3.], requires_grad=True)\n",
    "p3 = torch.tensor([2.], requires_grad=True)\n",
    "\n",
    "player_list = [p1, p2, p3]\n",
    "prev_soln = None\n",
    "\n",
    "for i in range(num_iterations):\n",
    "    payoffs = player_payoffs(player_list)\n",
    "    nash_list, n_iter = cmd_utils.metamatrix_conjugate_gradient(\n",
    "        payoffs, \n",
    "        player_list,\n",
    "        vector_list=None,\n",
    "        n_steps=10,\n",
    "        bregman=bregman,\n",
    "    )\n",
    "    prev_soln = nash_list\n",
    "    player_list = cmd_utils.exp_map(player_list, nash_list, bregman=bregman)\n",
    "\n",
    "print(player_list)\n",
    "print(payoffs)\n"
   ]
  },
  {
   "cell_type": "code",
   "execution_count": null,
   "metadata": {},
   "outputs": [],
   "source": []
  }
 ],
 "metadata": {
  "kernelspec": {
   "display_name": "Python 3",
   "language": "python",
   "name": "python3"
  },
  "language_info": {
   "codemirror_mode": {
    "name": "ipython",
    "version": 3
   },
   "file_extension": ".py",
   "mimetype": "text/x-python",
   "name": "python",
   "nbconvert_exporter": "python",
   "pygments_lexer": "ipython3",
   "version": "3.6.8"
  },
  "latex_envs": {
   "LaTeX_envs_menu_present": true,
   "autoclose": false,
   "autocomplete": true,
   "bibliofile": "biblio.bib",
   "cite_by": "apalike",
   "current_citInitial": 1,
   "eqLabelWithNumbers": true,
   "eqNumInitial": 1,
   "hotkeys": {
    "equation": "Ctrl-E",
    "itemize": "Ctrl-I"
   },
   "labels_anchors": false,
   "latex_user_defs": false,
   "report_style_numbering": false,
   "user_envs_cfg": false
  },
  "varInspector": {
   "cols": {
    "lenName": 16,
    "lenType": 16,
    "lenVar": 40
   },
   "kernels_config": {
    "python": {
     "delete_cmd_postfix": "",
     "delete_cmd_prefix": "del ",
     "library": "var_list.py",
     "varRefreshCmd": "print(var_dic_list())"
    },
    "r": {
     "delete_cmd_postfix": ") ",
     "delete_cmd_prefix": "rm(",
     "library": "var_list.r",
     "varRefreshCmd": "cat(var_dic_list()) "
    }
   },
   "types_to_exclude": [
    "module",
    "function",
    "builtin_function_or_method",
    "instance",
    "_Feature"
   ],
   "window_display": false
  }
 },
 "nbformat": 4,
 "nbformat_minor": 2
}
