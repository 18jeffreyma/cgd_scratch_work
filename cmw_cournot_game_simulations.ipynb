{
 "cells": [
  {
   "cell_type": "code",
   "execution_count": 1,
   "metadata": {
    "ExecuteTime": {
     "end_time": "2020-12-03T21:27:53.623400Z",
     "start_time": "2020-12-03T21:27:53.430868Z"
    }
   },
   "outputs": [],
   "source": [
    "import torch\n",
    "import torch.autograd\n",
    "\n",
    "import cmw_utils"
   ]
  },
  {
   "cell_type": "code",
   "execution_count": 14,
   "metadata": {
    "ExecuteTime": {
     "end_time": "2020-12-03T21:22:58.199694Z",
     "start_time": "2020-12-03T21:22:57.829269Z"
    },
    "scrolled": false
   },
   "outputs": [
    {
     "name": "stdout",
     "output_type": "stream",
     "text": [
      "[tensor([22.5000], requires_grad=True), tensor([22.5000], requires_grad=True), tensor([22.5000], requires_grad=True)]\n",
      "[tensor([-506.2500], grad_fn=<NegBackward>), tensor([-506.2500], grad_fn=<NegBackward>), tensor([-506.2500], grad_fn=<NegBackward>)]\n"
     ]
    }
   ],
   "source": [
    "def player_payoffs4(quantity_list,\n",
    "                    market_demand=lambda q: 100 - q,\n",
    "                    marginal_cost=lambda q: q * 10):\n",
    "\n",
    "    quantity_tensor = torch.stack(quantity_list)\n",
    "\n",
    "    price = torch.max(market_demand(torch.sum(quantity_tensor)), torch.tensor(0., requires_grad=True))\n",
    "\n",
    "    payoffs = []\n",
    "    for i, quantity in enumerate(quantity_tensor):\n",
    "        # Negative, since CGD minimizes player objectives.\n",
    "        payoffs.append(- (quantity * price - marginal_cost(quantity)))\n",
    "        \n",
    "    return payoffs\n",
    "\n",
    "num_iterations = 50\n",
    "\n",
    "# Define individual sellers quantities\n",
    "p1 = torch.tensor([22.5], requires_grad=True)\n",
    "p2 = torch.tensor([22.5], requires_grad=True)\n",
    "p3 = torch.tensor([22.5], requires_grad=True)\n",
    "\n",
    "player_list = [p1, p2, p3]\n",
    "\n",
    "for i in range(num_iterations):\n",
    "    payoffs = player_payoffs4(player_list)\n",
    "    nash_list, _ = cmw_utils.metamatrix_conjugate_gradient(payoffs, player_list)\n",
    "    \n",
    "    player_list = cmw_utils.project_update(nash_list, player_list)\n",
    "    \n",
    "\n",
    "print(player_list)\n",
    "print(payoffs)\n"
   ]
  },
  {
   "cell_type": "code",
   "execution_count": 2,
   "metadata": {
    "ExecuteTime": {
     "end_time": "2020-12-03T21:27:55.388867Z",
     "start_time": "2020-12-03T21:27:55.128406Z"
    }
   },
   "outputs": [
    {
     "name": "stdout",
     "output_type": "stream",
     "text": [
      "[tensor([10.], requires_grad=True), tensor([20.], requires_grad=True), tensor([30.], requires_grad=True)]\n",
      "[tensor([2.2684e-05], requires_grad=True), tensor([0.5697], requires_grad=True), tensor([0.5407], requires_grad=True)]\n",
      "[tensor([inf], requires_grad=True), tensor([0.5697], requires_grad=True), tensor([0.5407], requires_grad=True)]\n"
     ]
    },
    {
     "ename": "ValueError",
     "evalue": "hvp_vec nan",
     "output_type": "error",
     "traceback": [
      "\u001b[0;31m---------------------------------------------------------------------------\u001b[0m",
      "\u001b[0;31mValueError\u001b[0m                                Traceback (most recent call last)",
      "\u001b[0;32m<ipython-input-2-8c7b6fb76fa3>\u001b[0m in \u001b[0;36m<module>\u001b[0;34m\u001b[0m\n\u001b[1;32m     28\u001b[0m     \u001b[0mprint\u001b[0m\u001b[0;34m(\u001b[0m\u001b[0mplayer_list\u001b[0m\u001b[0;34m)\u001b[0m\u001b[0;34m\u001b[0m\u001b[0;34m\u001b[0m\u001b[0m\n\u001b[1;32m     29\u001b[0m     \u001b[0mpayoffs\u001b[0m \u001b[0;34m=\u001b[0m \u001b[0mplayer_payoffs2\u001b[0m\u001b[0;34m(\u001b[0m\u001b[0mplayer_list\u001b[0m\u001b[0;34m)\u001b[0m\u001b[0;34m\u001b[0m\u001b[0;34m\u001b[0m\u001b[0m\n\u001b[0;32m---> 30\u001b[0;31m     \u001b[0mnash_list\u001b[0m\u001b[0;34m,\u001b[0m \u001b[0m_\u001b[0m \u001b[0;34m=\u001b[0m \u001b[0mcmw_utils\u001b[0m\u001b[0;34m.\u001b[0m\u001b[0mmetamatrix_conjugate_gradient\u001b[0m\u001b[0;34m(\u001b[0m\u001b[0mpayoffs\u001b[0m\u001b[0;34m,\u001b[0m \u001b[0mplayer_list\u001b[0m\u001b[0;34m)\u001b[0m\u001b[0;34m\u001b[0m\u001b[0;34m\u001b[0m\u001b[0m\n\u001b[0m\u001b[1;32m     31\u001b[0m \u001b[0;34m\u001b[0m\u001b[0m\n\u001b[1;32m     32\u001b[0m     \u001b[0mplayer_list\u001b[0m \u001b[0;34m=\u001b[0m \u001b[0mcmw_utils\u001b[0m\u001b[0;34m.\u001b[0m\u001b[0mproject_update\u001b[0m\u001b[0;34m(\u001b[0m\u001b[0mnash_list\u001b[0m\u001b[0;34m,\u001b[0m \u001b[0mplayer_list\u001b[0m\u001b[0;34m)\u001b[0m\u001b[0;34m\u001b[0m\u001b[0;34m\u001b[0m\u001b[0m\n",
      "\u001b[0;32m~/Desktop/github/cgd_scratch_work/cmw_utils.py\u001b[0m in \u001b[0;36mmetamatrix_conjugate_gradient\u001b[0;34m(loss_list, param_list, vector_list, n_steps, tol, atol, retain_graph)\u001b[0m\n\u001b[1;32m     99\u001b[0m     \u001b[0;31m# Multiplying both sides by transpose to ensure p.s.d.\u001b[0m\u001b[0;34m\u001b[0m\u001b[0;34m\u001b[0m\u001b[0;34m\u001b[0m\u001b[0m\n\u001b[1;32m    100\u001b[0m     \u001b[0;31m# r = A^t * b (before we subtract)\u001b[0m\u001b[0;34m\u001b[0m\u001b[0;34m\u001b[0m\u001b[0;34m\u001b[0m\u001b[0m\n\u001b[0;32m--> 101\u001b[0;31m     \u001b[0mr\u001b[0m \u001b[0;34m=\u001b[0m \u001b[0mavp\u001b[0m\u001b[0;34m(\u001b[0m\u001b[0mloss_list\u001b[0m\u001b[0;34m,\u001b[0m \u001b[0mparam_list\u001b[0m\u001b[0;34m,\u001b[0m \u001b[0mb\u001b[0m\u001b[0;34m,\u001b[0m \u001b[0mtranspose\u001b[0m\u001b[0;34m=\u001b[0m\u001b[0;32mTrue\u001b[0m\u001b[0;34m)\u001b[0m\u001b[0;34m\u001b[0m\u001b[0;34m\u001b[0m\u001b[0m\n\u001b[0m\u001b[1;32m    102\u001b[0m \u001b[0;34m\u001b[0m\u001b[0m\n\u001b[1;32m    103\u001b[0m     \u001b[0;32mif\u001b[0m \u001b[0mvector_list\u001b[0m \u001b[0;32mis\u001b[0m \u001b[0;32mNone\u001b[0m\u001b[0;34m:\u001b[0m\u001b[0;34m\u001b[0m\u001b[0;34m\u001b[0m\u001b[0m\n",
      "\u001b[0;32m~/Desktop/github/cgd_scratch_work/cmw_utils.py\u001b[0m in \u001b[0;36mavp\u001b[0;34m(loss_list, param_list, vector_list, transpose, retain_graph, detach)\u001b[0m\n\u001b[1;32m     52\u001b[0m \u001b[0;34m\u001b[0m\u001b[0m\n\u001b[1;32m     53\u001b[0m             \u001b[0;32mif\u001b[0m \u001b[0mtorch\u001b[0m\u001b[0;34m.\u001b[0m\u001b[0misnan\u001b[0m\u001b[0;34m(\u001b[0m\u001b[0mhvp_vec\u001b[0m\u001b[0;34m)\u001b[0m\u001b[0;34m.\u001b[0m\u001b[0many\u001b[0m\u001b[0;34m(\u001b[0m\u001b[0;34m)\u001b[0m\u001b[0;34m:\u001b[0m\u001b[0;34m\u001b[0m\u001b[0;34m\u001b[0m\u001b[0m\n\u001b[0;32m---> 54\u001b[0;31m                 \u001b[0;32mraise\u001b[0m \u001b[0mValueError\u001b[0m\u001b[0;34m(\u001b[0m\u001b[0;34m'hvp_vec nan'\u001b[0m\u001b[0;34m)\u001b[0m\u001b[0;34m\u001b[0m\u001b[0;34m\u001b[0m\u001b[0m\n\u001b[0m\u001b[1;32m     55\u001b[0m \u001b[0;34m\u001b[0m\u001b[0m\n\u001b[1;32m     56\u001b[0m             \u001b[0;32mif\u001b[0m \u001b[0mdetach\u001b[0m\u001b[0;34m:\u001b[0m\u001b[0;34m\u001b[0m\u001b[0;34m\u001b[0m\u001b[0m\n",
      "\u001b[0;31mValueError\u001b[0m: hvp_vec nan"
     ]
    }
   ],
   "source": [
    "def player_payoffs2(quantity_list,\n",
    "                   market_demand=lambda q: 100 - q,\n",
    "                   marginal_cost=lambda q: q * 10):\n",
    "    quantity_tensor = torch.stack(quantity_list)\n",
    "\n",
    "    price = torch.max(\n",
    "        market_demand(torch.sum(torch.pow(quantity_tensor, 2))),\n",
    "        torch.tensor(0., requires_grad=True)\n",
    "    )\n",
    "\n",
    "    payoffs = []\n",
    "    for i, quantity in enumerate(quantity_tensor):\n",
    "        # Negative, since CGD minimizes player objectives.\n",
    "        payoffs.append(- (quantity * price - marginal_cost(quantity)))\n",
    "        \n",
    "    return payoffs\n",
    "\n",
    "num_iterations = 100\n",
    "\n",
    "# Define individual sellers quantities\n",
    "p1 = torch.tensor([10.], requires_grad=True)\n",
    "p2 = torch.tensor([20.], requires_grad=True)\n",
    "p3 = torch.tensor([30.], requires_grad=True)\n",
    "\n",
    "player_list = [p1, p2, p3]\n",
    "\n",
    "for i in range(num_iterations):\n",
    "    print(player_list)\n",
    "    payoffs = player_payoffs2(player_list)\n",
    "    nash_list, _ = cmw_utils.metamatrix_conjugate_gradient(payoffs, player_list)\n",
    "    \n",
    "    player_list = cmw_utils.project_update(nash_list, player_list)\n",
    "    \n",
    "\n",
    "print(player_list)\n",
    "print(payoffs)\n"
   ]
  },
  {
   "cell_type": "code",
   "execution_count": null,
   "metadata": {},
   "outputs": [],
   "source": []
  }
 ],
 "metadata": {
  "kernelspec": {
   "display_name": "Python 3",
   "language": "python",
   "name": "python3"
  },
  "latex_envs": {
   "LaTeX_envs_menu_present": true,
   "autoclose": false,
   "autocomplete": true,
   "bibliofile": "biblio.bib",
   "cite_by": "apalike",
   "current_citInitial": 1,
   "eqLabelWithNumbers": true,
   "eqNumInitial": 1,
   "hotkeys": {
    "equation": "Ctrl-E",
    "itemize": "Ctrl-I"
   },
   "labels_anchors": false,
   "latex_user_defs": false,
   "report_style_numbering": false,
   "user_envs_cfg": false
  },
  "varInspector": {
   "cols": {
    "lenName": 16,
    "lenType": 16,
    "lenVar": 40
   },
   "kernels_config": {
    "python": {
     "delete_cmd_postfix": "",
     "delete_cmd_prefix": "del ",
     "library": "var_list.py",
     "varRefreshCmd": "print(var_dic_list())"
    },
    "r": {
     "delete_cmd_postfix": ") ",
     "delete_cmd_prefix": "rm(",
     "library": "var_list.r",
     "varRefreshCmd": "cat(var_dic_list()) "
    }
   },
   "types_to_exclude": [
    "module",
    "function",
    "builtin_function_or_method",
    "instance",
    "_Feature"
   ],
   "window_display": false
  }
 },
 "nbformat": 4,
 "nbformat_minor": 2
}
