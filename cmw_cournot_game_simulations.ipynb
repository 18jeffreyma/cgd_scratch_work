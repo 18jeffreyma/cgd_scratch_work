{
 "cells": [
  {
   "cell_type": "code",
   "execution_count": 1,
   "metadata": {
    "ExecuteTime": {
     "end_time": "2020-11-25T22:25:15.557284Z",
     "start_time": "2020-11-25T22:25:15.550834Z"
    }
   },
   "outputs": [],
   "source": [
    "import torch\n",
    "import torch.autograd\n",
    "\n",
    "import cmw_utils"
   ]
  },
  {
   "cell_type": "code",
   "execution_count": 6,
   "metadata": {
    "ExecuteTime": {
     "end_time": "2020-11-25T22:36:17.732918Z",
     "start_time": "2020-11-25T22:36:17.626246Z"
    },
    "scrolled": false
   },
   "outputs": [
    {
     "name": "stdout",
     "output_type": "stream",
     "text": [
      "0\n",
      "player list\n",
      "[tensor([5.], requires_grad=True), tensor([5.], requires_grad=True)]\n",
      "\n",
      "1\n",
      "player list\n",
      "[tensor([1341686.3750], requires_grad=True), tensor([1341686.3750], requires_grad=True)]\n",
      "\n",
      "2\n",
      "player list\n",
      "[tensor([66803.2656], requires_grad=True), tensor([66803.2656], requires_grad=True)]\n",
      "\n",
      "3\n",
      "player list\n",
      "[tensor([3330.5706], requires_grad=True), tensor([3330.5706], requires_grad=True)]\n",
      "\n",
      "4\n",
      "player list\n",
      "[tensor([170.5133], requires_grad=True), tensor([170.5133], requires_grad=True)]\n",
      "\n",
      "5\n",
      "player list\n",
      "[tensor([14.6004], requires_grad=True), tensor([14.6004], requires_grad=True)]\n",
      "\n",
      "6\n",
      "player list\n",
      "[tensor([282.1532], requires_grad=True), tensor([282.1532], requires_grad=True)]\n",
      "\n",
      "7\n",
      "player list\n",
      "[tensor([19.5094], requires_grad=True), tensor([19.5094], requires_grad=True)]\n",
      "\n",
      "8\n",
      "player list\n",
      "[tensor([90.5054], requires_grad=True), tensor([90.5054], requires_grad=True)]\n",
      "\n",
      "9\n",
      "player list\n",
      "[tensor([12.4503], requires_grad=True), tensor([12.4503], requires_grad=True)]\n",
      "\n",
      "10\n",
      "player list\n",
      "[tensor([623.9672], requires_grad=True), tensor([623.9672], requires_grad=True)]\n",
      "\n",
      "11\n",
      "player list\n",
      "[tensor([36.0500], requires_grad=True), tensor([36.0500], requires_grad=True)]\n",
      "\n",
      "12\n",
      "player list\n",
      "[tensor([22.0879], requires_grad=True), tensor([22.0879], requires_grad=True)]\n",
      "\n",
      "13\n",
      "player list\n",
      "[tensor([61.7512], requires_grad=True), tensor([61.7512], requires_grad=True)]\n",
      "\n",
      "14\n",
      "player list\n",
      "[tensor([13.5333], requires_grad=True), tensor([13.5333], requires_grad=True)]\n",
      "\n",
      "15\n",
      "player list\n",
      "[tensor([405.1404], requires_grad=True), tensor([405.1404], requires_grad=True)]\n",
      "\n",
      "16\n",
      "player list\n",
      "[tensor([25.3611], requires_grad=True), tensor([25.3611], requires_grad=True)]\n",
      "\n",
      "17\n",
      "player list\n",
      "[tensor([42.9973], requires_grad=True), tensor([42.9973], requires_grad=True)]\n",
      "\n",
      "18\n",
      "player list\n",
      "[tensor([17.7237], requires_grad=True), tensor([17.7237], requires_grad=True)]\n",
      "\n",
      "19\n",
      "player list\n",
      "[tensor([126.7062], requires_grad=True), tensor([126.7062], requires_grad=True)]\n",
      "\n",
      "[tensor([13.0672], requires_grad=True), tensor([13.0672], requires_grad=True)]\n",
      "[tensor([20705.3652], grad_fn=<NegBackward>), tensor([20705.3652], grad_fn=<NegBackward>)]\n"
     ]
    }
   ],
   "source": [
    "def player_payoffs4(quantity_list,\n",
    "                    market_demand=lambda q: 100 - q,\n",
    "                    marginal_cost=lambda q: q * 10):\n",
    "\n",
    "    quantity_tensor = torch.stack(quantity_list)\n",
    "\n",
    "    price = market_demand(torch.sum(quantity_tensor))\n",
    "\n",
    "    payoffs = []\n",
    "    for i, quantity in enumerate(quantity_tensor):\n",
    "        # Negative, since CGD minimizes player objectives.\n",
    "        payoffs.append(- (quantity * price - marginal_cost(quantity)))\n",
    "        \n",
    "    return payoffs\n",
    "\n",
    "num_iterations = 20\n",
    "\n",
    "# Define individual sellers quantities\n",
    "p1 = torch.tensor([5.], requires_grad=True)\n",
    "p2 = torch.tensor([5.], requires_grad=True)\n",
    "# p3 = torch.tensor([10.], requires_grad=True)\n",
    "\n",
    "player_list = [p1, p2]\n",
    "\n",
    "for i in range(num_iterations):\n",
    "    print(i)\n",
    "    print('player list')\n",
    "    print(player_list)\n",
    "    print()\n",
    "    payoffs = player_payoffs4(player_list)\n",
    "    nash_list, _ = cmw_utils.metamatrix_conjugate_gradient(payoffs, player_list)\n",
    "    \n",
    "    \n",
    "#     print('nash list')\n",
    "#     print(nash_list)\n",
    "#     print()\n",
    "    \n",
    "    player_list = cmw_utils.project_update(nash_list, player_list)\n",
    "\n",
    "print(player_list)\n",
    "print(payoffs)\n"
   ]
  },
  {
   "cell_type": "code",
   "execution_count": null,
   "metadata": {},
   "outputs": [],
   "source": []
  }
 ],
 "metadata": {
  "kernelspec": {
   "display_name": "Python 3",
   "language": "python",
   "name": "python3"
  },
  "language_info": {
   "codemirror_mode": {
    "name": "ipython",
    "version": 3
   },
   "file_extension": ".py",
   "mimetype": "text/x-python",
   "name": "python",
   "nbconvert_exporter": "python",
   "pygments_lexer": "ipython3",
   "version": "3.6.8"
  },
  "latex_envs": {
   "LaTeX_envs_menu_present": true,
   "autoclose": false,
   "autocomplete": true,
   "bibliofile": "biblio.bib",
   "cite_by": "apalike",
   "current_citInitial": 1,
   "eqLabelWithNumbers": true,
   "eqNumInitial": 1,
   "hotkeys": {
    "equation": "Ctrl-E",
    "itemize": "Ctrl-I"
   },
   "labels_anchors": false,
   "latex_user_defs": false,
   "report_style_numbering": false,
   "user_envs_cfg": false
  },
  "varInspector": {
   "cols": {
    "lenName": 16,
    "lenType": 16,
    "lenVar": 40
   },
   "kernels_config": {
    "python": {
     "delete_cmd_postfix": "",
     "delete_cmd_prefix": "del ",
     "library": "var_list.py",
     "varRefreshCmd": "print(var_dic_list())"
    },
    "r": {
     "delete_cmd_postfix": ") ",
     "delete_cmd_prefix": "rm(",
     "library": "var_list.r",
     "varRefreshCmd": "cat(var_dic_list()) "
    }
   },
   "types_to_exclude": [
    "module",
    "function",
    "builtin_function_or_method",
    "instance",
    "_Feature"
   ],
   "window_display": false
  }
 },
 "nbformat": 4,
 "nbformat_minor": 2
}
