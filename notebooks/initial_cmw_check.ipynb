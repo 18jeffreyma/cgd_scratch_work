{
 "cells": [
  {
   "cell_type": "markdown",
   "metadata": {},
   "source": [
    "# Imports"
   ]
  },
  {
   "cell_type": "code",
   "execution_count": 1,
   "metadata": {
    "ExecuteTime": {
     "end_time": "2021-01-18T10:15:52.394769Z",
     "start_time": "2021-01-18T10:15:51.784792Z"
    }
   },
   "outputs": [],
   "source": [
    "import torch\n",
    "import torch.autograd as autograd\n",
    "from multi_cmd.optim import potentials, cmd_utils \n",
    "\n",
    "import matplotlib.pyplot as plt"
   ]
  },
  {
   "cell_type": "markdown",
   "metadata": {},
   "source": [
    "# Testing Meta-Matrix Product"
   ]
  },
  {
   "cell_type": "markdown",
   "metadata": {
    "heading_collapsed": true
   },
   "source": [
    "## Two Player Case"
   ]
  },
  {
   "cell_type": "code",
   "execution_count": 3,
   "metadata": {
    "ExecuteTime": {
     "end_time": "2021-01-12T22:31:04.762907Z",
     "start_time": "2021-01-12T22:31:04.745408Z"
    },
    "hidden": true
   },
   "outputs": [
    {
     "ename": "TypeError",
     "evalue": "avp() missing 1 required positional argument: 'vector_list_flattened'",
     "output_type": "error",
     "traceback": [
      "\u001b[0;31m---------------------------------------------------------------------------\u001b[0m",
      "\u001b[0;31mTypeError\u001b[0m                                 Traceback (most recent call last)",
      "\u001b[0;32m<ipython-input-3-ea7e92df4a68>\u001b[0m in \u001b[0;36m<module>\u001b[0;34m()\u001b[0m\n\u001b[1;32m     14\u001b[0m result1 = cmd_utils.avp([x_loss, y_loss], [[x_param], [y_param]], [[b1], [b2]], \n\u001b[1;32m     15\u001b[0m                         \u001b[0mbregman\u001b[0m\u001b[0;34m=\u001b[0m\u001b[0mpotentials\u001b[0m\u001b[0;34m.\u001b[0m\u001b[0mshannon_entropy\u001b[0m\u001b[0;34m(\u001b[0m\u001b[0;36m1\u001b[0m\u001b[0;34m)\u001b[0m\u001b[0;34m,\u001b[0m\u001b[0;34m\u001b[0m\u001b[0;34m\u001b[0m\u001b[0m\n\u001b[0;32m---> 16\u001b[0;31m                         transpose=False)\n\u001b[0m\u001b[1;32m     17\u001b[0m result2 = cmd_utils.avp([x_loss, y_loss], [[x_param], [y_param]], [[b1], [b2]], \n\u001b[1;32m     18\u001b[0m                         \u001b[0mbregman\u001b[0m\u001b[0;34m=\u001b[0m\u001b[0mpotentials\u001b[0m\u001b[0;34m.\u001b[0m\u001b[0mshannon_entropy\u001b[0m\u001b[0;34m(\u001b[0m\u001b[0;36m1\u001b[0m\u001b[0;34m)\u001b[0m\u001b[0;34m,\u001b[0m\u001b[0;34m\u001b[0m\u001b[0;34m\u001b[0m\u001b[0m\n",
      "\u001b[0;31mTypeError\u001b[0m: avp() missing 1 required positional argument: 'vector_list_flattened'"
     ]
    }
   ],
   "source": [
    "x_param = torch.tensor([1.0, 1.0], requires_grad=True)\n",
    "y_param = torch.tensor([1.0, 1.0], requires_grad=True)\n",
    "\n",
    "# x_loss = torch.dot(x_param, x_param) * torch.dot(y_param, y_param)\n",
    "# y_loss =  - torch.dot(x_param, x_param) * torch.dot(y_param, y_param)\n",
    "\n",
    "x_loss = torch.sum(torch.pow(x_param, 2)) * torch.sum(torch.pow(y_param, 2))\n",
    "y_loss = - torch.sum(torch.pow(x_param, 2)) * torch.sum(torch.pow(y_param, 2))\n",
    "\n",
    "b1 = torch.tensor([1.0, 1.0])\n",
    "b2 = torch.tensor([1.0, 1.0])\n",
    "\n",
    "\n",
    "result1 = cmd_utils.avp([x_loss, y_loss], [[x_param], [y_param]], [[b1], [b2]], \n",
    "                        bregman=potentials.shannon_entropy(1), \n",
    "                        transpose=False)\n",
    "result2 = cmd_utils.avp([x_loss, y_loss], [[x_param], [y_param]], [[b1], [b2]], \n",
    "                        bregman=potentials.shannon_entropy(1), \n",
    "                        transpose=True)\n",
    "\n",
    "print(result1)\n",
    "print(result2)"
   ]
  },
  {
   "cell_type": "markdown",
   "metadata": {
    "heading_collapsed": true
   },
   "source": [
    "#  Three Player Case\n"
   ]
  },
  {
   "cell_type": "code",
   "execution_count": 3,
   "metadata": {
    "ExecuteTime": {
     "end_time": "2020-12-23T01:20:53.764873Z",
     "start_time": "2020-12-23T01:20:53.748355Z"
    },
    "hidden": true
   },
   "outputs": [
    {
     "name": "stdout",
     "output_type": "stream",
     "text": [
      "((tensor([73., 73.]),), (tensor([73., 73.]),), (tensor([73., 73.]),))\n",
      "((tensor([73., 73.]),), (tensor([73., 73.]),), (tensor([73., 73.]),))\n"
     ]
    }
   ],
   "source": [
    "x_param = torch.tensor([1.0, 1.0], requires_grad=True)\n",
    "y_param = torch.tensor([1.0, 1.0], requires_grad=True)\n",
    "z_param = torch.tensor([1.0, 1.0], requires_grad=True)\n",
    "\n",
    "# x_loss = torch.dot(x_param, x_param) * torch.dot(y_param, y_param)\n",
    "# y_loss =  - torch.dot(x_param, x_param) * torch.dot(y_param, y_param)\n",
    "\n",
    "x_loss = torch.sum(torch.pow(x_param, 3)) * torch.sum(torch.pow(y_param, 3)) * torch.sum(torch.pow(z_param, 3))\n",
    "y_loss = torch.sum(torch.pow(x_param, 3)) * torch.sum(torch.pow(y_param, 3)) * torch.sum(torch.pow(z_param, 3))\n",
    "z_loss = torch.sum(torch.pow(x_param, 3)) * torch.sum(torch.pow(y_param, 3)) * torch.sum(torch.pow(z_param, 3))\n",
    "\n",
    "b = torch.tensor([[[1.0, 1.0]], [[1.0, 1.0]], [[1.0, 1.0]]])\n",
    "\n",
    "result1 = cmd_utils.avp([x_loss, y_loss, z_loss], [[x_param], [y_param], [z_param]], b, \n",
    "                        bregman=potentials.shannon_entropy(1), \n",
    "                        transpose=False, \n",
    "                        retain_graph=True)\n",
    "result2 = cmd_utils.avp([x_loss, y_loss, z_loss], [[x_param], [y_param], [z_param]], b, \n",
    "                        bregman=potentials.shannon_entropy(1), \n",
    "                        transpose=True, \n",
    "                        retain_graph=True)\n",
    "\n",
    "print(result1)\n",
    "print(result2)\n"
   ]
  },
  {
   "cell_type": "markdown",
   "metadata": {
    "heading_collapsed": true
   },
   "source": [
    "# Testing Meta-Matrix Conjugate Gradient\n",
    "\n",
    "We test in the two player case with the following objective functions. Since the two player case is the same as presented in the original CGD paper, this conjugate gradient should return the same result as calculated by hand from the closed form solution in the paper.\n",
    "\n",
    "\n",
    "\\begin{gather}\n",
    "f(x,y) = x^2 y^2 \\;\\;\\;\\;\\; g(x,y) = -x^2 y^2\n",
    "\\end{gather}"
   ]
  },
  {
   "cell_type": "code",
   "execution_count": 4,
   "metadata": {
    "ExecuteTime": {
     "end_time": "2020-12-23T01:20:53.774820Z",
     "start_time": "2020-12-23T01:20:53.766822Z"
    },
    "hidden": true
   },
   "outputs": [
    {
     "name": "stdout",
     "output_type": "stream",
     "text": [
      "((tensor([0., 0.]),), (tensor([0., 0.]),))\n",
      "0\n"
     ]
    }
   ],
   "source": [
    "x = torch.tensor([1.0, 1.0], requires_grad=True)\n",
    "y = torch.tensor([1.0, 1.0], requires_grad=True)\n",
    "\n",
    "x_loss2 = torch.sum(torch.pow(x, 2)) * torch.sum(torch.pow(y, 2))\n",
    "y_loss2 = - torch.sum(torch.pow(x, 2)) * torch.sum(torch.pow(y, 2))\n",
    "\n",
    "soln, n_iter = cmd_utils.metamatrix_conjugate_gradient(\n",
    "    [x_loss, y_loss], [x_loss, y_loss], [[x], [y]], bregman=potentials.shannon_entropy(1))\n",
    "\n",
    "print(soln)\n",
    "print(n_iter)\n"
   ]
  },
  {
   "cell_type": "markdown",
   "metadata": {},
   "source": [
    "# Testing on CMD Paper Example\n",
    "\n",
    "We then test on the optimizer on the toy example, which has a nash equilibrium of $(0.1, 0.1)$:\n",
    "\n",
    "\\begin{gather}\n",
    "f(x,y) = \\alpha(x-0.1)(y-0.1) = -g(x,y)\n",
    "\\end{gather}"
   ]
  },
  {
   "cell_type": "code",
   "execution_count": 10,
   "metadata": {
    "ExecuteTime": {
     "end_time": "2021-01-18T10:33:13.339203Z",
     "start_time": "2021-01-18T10:33:12.375232Z"
    },
    "scrolled": false
   },
   "outputs": [
    {
     "data": {
      "image/png": "[encoded data removed]",
      "text/plain": [
       "<Figure size 360x360 with 1 Axes>"
      ]
     },
     "metadata": {
      "needs_background": "light"
     },
     "output_type": "display_data"
    }
   ],
   "source": [
    "x_param = torch.tensor([0.3], requires_grad=True)\n",
    "y_param = torch.tensor([0.4], requires_grad=True)\n",
    "param_list = [[x_param], [y_param]]\n",
    "\n",
    "alpha = 1\n",
    "num_iter = 200\n",
    "x_player = []\n",
    "y_player = []\n",
    "colors = []\n",
    "\n",
    "def payoff_func(param_list):\n",
    "    x_loss = alpha * (torch.sum(param_list[0][0]) - 0.1) * (torch.sum(param_list[1][0]) - 0.1)\n",
    "    y_loss = - alpha * (torch.sum(param_list[0][0]) - 0.1) * (torch.sum(param_list[1][0]) - 0.1)\n",
    "    \n",
    "    return [x_loss, y_loss]\n",
    "\n",
    "# Initialize optimizer.\n",
    "optim = cmd_utils.CMD(param_list, bregman=potentials.squared_distance(10), antisymetric=True)\n",
    "\n",
    "for n in range(num_iter):\n",
    "    x_player.append(float(param_list[0][0].data[0]))\n",
    "    y_player.append(float(param_list[1][0].data[0]))\n",
    "    \n",
    "    optim.step(payoff_func(param_list))\n",
    "    \n",
    "plt.figure(figsize=(5,5))\n",
    "plt.grid()\n",
    "plt.scatter(x_player, y_player)\n",
    "plt.show()"
   ]
  },
  {
   "cell_type": "code",
   "execution_count": 7,
   "metadata": {
    "ExecuteTime": {
     "end_time": "2020-12-23T01:23:39.895159Z",
     "start_time": "2020-12-23T01:23:39.891444Z"
    }
   },
   "outputs": [
    {
     "name": "stdout",
     "output_type": "stream",
     "text": [
      "[0.3, 0.2137, 0.1494, 0.1046, 0.0743, 0.0539, 0.0402, 0.0307, 0.0242, 0.0195, 0.0161, 0.0137, 0.0119, 0.0105, 0.0095, 0.0087, 0.0082, 0.0077, 0.0074, 0.0072]\n",
      "[0.4, 0.4413, 0.458, 0.4563, 0.4423, 0.4209, 0.3956, 0.3687, 0.3419, 0.3152, 0.2897, 0.2657, 0.2433, 0.2224, 0.2032, 0.1855, 0.1692, 0.1543, 0.1406, 0.1282]\n"
     ]
    }
   ],
   "source": [
    "print([round(x, 4) for x in x_player])\n",
    "print([round(y, 4) for y in y_player])"
   ]
  },
  {
   "cell_type": "code",
   "execution_count": null,
   "metadata": {},
   "outputs": [],
   "source": []
  }
 ],
 "metadata": {
  "kernelspec": {
   "display_name": "Python 3",
   "language": "python",
   "name": "python3"
  },
  "language_info": {
   "codemirror_mode": {
    "name": "ipython",
    "version": 3
   },
   "file_extension": ".py",
   "mimetype": "text/x-python",
   "name": "python",
   "nbconvert_exporter": "python",
   "pygments_lexer": "ipython3",
   "version": "3.6.8"
  },
  "latex_envs": {
   "LaTeX_envs_menu_present": true,
   "autoclose": false,
   "autocomplete": true,
   "bibliofile": "biblio.bib",
   "cite_by": "apalike",
   "current_citInitial": 1,
   "eqLabelWithNumbers": true,
   "eqNumInitial": 1,
   "hotkeys": {
    "equation": "Ctrl-E",
    "itemize": "Ctrl-I"
   },
   "labels_anchors": false,
   "latex_user_defs": false,
   "report_style_numbering": false,
   "user_envs_cfg": false
  },
  "varInspector": {
   "cols": {
    "lenName": 16,
    "lenType": 16,
    "lenVar": 40
   },
   "kernels_config": {
    "python": {
     "delete_cmd_postfix": "",
     "delete_cmd_prefix": "del ",
     "library": "var_list.py",
     "varRefreshCmd": "print(var_dic_list())"
    },
    "r": {
     "delete_cmd_postfix": ") ",
     "delete_cmd_prefix": "rm(",
     "library": "var_list.r",
     "varRefreshCmd": "cat(var_dic_list()) "
    }
   },
   "types_to_exclude": [
    "module",
    "function",
    "builtin_function_or_method",
    "instance",
    "_Feature"
   ],
   "window_display": false
  }
 },
 "nbformat": 4,
 "nbformat_minor": 2
}
