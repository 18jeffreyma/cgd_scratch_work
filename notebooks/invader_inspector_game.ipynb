{
 "cells": [
  {
   "cell_type": "markdown",
   "metadata": {},
   "source": [
    "# Imports"
   ]
  },
  {
   "cell_type": "code",
   "execution_count": 6,
   "metadata": {
    "ExecuteTime": {
     "end_time": "2020-11-18T23:39:34.896714Z",
     "start_time": "2020-11-18T23:39:34.893452Z"
    }
   },
   "outputs": [],
   "source": [
    "import torch\n",
    "from multi_cmd import cgd_utils\n",
    "import numpy as np\n"
   ]
  },
  {
   "cell_type": "markdown",
   "metadata": {},
   "source": [
    "# Game Setup"
   ]
  },
  {
   "cell_type": "code",
   "execution_count": 10,
   "metadata": {
    "ExecuteTime": {
     "end_time": "2020-11-18T23:40:54.058032Z",
     "start_time": "2020-11-18T23:40:54.049451Z"
    }
   },
   "outputs": [],
   "source": [
    "# Game constants\n",
    "num_evaders = 2\n",
    "num_exits = 7\n",
    "points_per_inspector = [3, 3, 1]\n",
    "num_inspectors = len(points_per_inspector)\n",
    "\n",
    "# Computing helper values for calculating expected payoffs\n",
    "bounds = [0] + list(np.cumsum(points_per_inspector))\n",
    "inspector_ranges = [(bounds[i], bounds[i+1]) for i in range(num_inspectors)]\n",
    "\n",
    "# Check that each point has exactly one inspector.\n",
    "assert(sum(points_per_inspector) == num_exits)\n",
    "\n",
    "# Calculate game payoffs\n",
    "def calculate_expected_payoffs(evader_player_list, inspector_player_list):\n",
    "    '''Given lists of evader probabilities and inspector probabilities, compute expected payoffs'''\n",
    "    \n",
    "    # Normalize each evader's probabilities to [0, 1] using softmax.\n",
    "    normalized_evader_list = (\n",
    "        [torch.nn.Softmax(dim=0)(evader_tensor)\n",
    "         for evader_tensor in evader_player_list])\n",
    "    \n",
    "    # Normalize each inspector's probabilities to [0,1] using softmax.\n",
    "    normalized_inspector_list = (\n",
    "        [torch.nn.Softmax(dim=0)(inspect_tensor)\n",
    "         for inspect_tensor in inspector_player_list])\n",
    "     \n",
    "    # Evader probability of gaining 1 calculated with probability that inspector does not choose this point.\n",
    "    inspector_probabilities = 1 - torch.cat(normalized_inspector_list)\n",
    "    \n",
    "    # Get evader expected payoffs in-order of evader, which is probability that\n",
    "    # evader choses a point, that the inspector does not (i.e. complement)\n",
    "    evader_payoffs = [-torch.dot(evader_tensor, inspector_probabilities) \n",
    "                      for evader_tensor in normalized_evader_list]\n",
    "    \n",
    "    # Define list of inspector payoffs\n",
    "    inspector_payoffs = [torch.tensor(0.) \n",
    "                         for _ in range(num_inspectors)]\n",
    "    \n",
    "    # For inspector, payoff is probability that evader and inspector both chose the same exit.\n",
    "    for evader_tensor in normalized_evader_list:\n",
    "        for i, ((start, stop), inspector_tensor) in (\n",
    "                enumerate(zip(inspector_ranges, normalized_inspector_list))):\n",
    "            \n",
    "            inspector_payoffs[i] += -torch.dot(inspector_tensor, evader_tensor[start: stop])\n",
    "            \n",
    "    return evader_payoffs, inspector_payoffs\n",
    "            "
   ]
  },
  {
   "cell_type": "markdown",
   "metadata": {},
   "source": [
    "# Simulating Invader Evader with Random Starting Weights"
   ]
  },
  {
   "cell_type": "code",
   "execution_count": 12,
   "metadata": {
    "ExecuteTime": {
     "end_time": "2020-11-18T23:42:41.807657Z",
     "start_time": "2020-11-18T23:42:27.611891Z"
    },
    "scrolled": false
   },
   "outputs": [
    {
     "name": "stdout",
     "output_type": "stream",
     "text": [
      "Initial Evader Probabilities\n",
      "   tensor([0.0825, 0.1140, 0.0860, 0.1611, 0.2301, 0.1505, 0.1758],\n",
      "       dtype=torch.float64, grad_fn=<DivBackward0>)\n",
      "   tensor([0.1772, 0.1351, 0.0419, 0.1810, 0.1949, 0.1664, 0.1035],\n",
      "       dtype=torch.float64, grad_fn=<DivBackward0>)\n",
      "\n",
      "Initial Inspector Probabilities\n",
      "    tensor([0.2958, 0.3363, 0.3678], dtype=torch.float64, grad_fn=<DivBackward0>)\n",
      "    tensor([0.4959, 0.1417, 0.3625], dtype=torch.float64, grad_fn=<DivBackward0>)\n",
      "    tensor([1.], dtype=torch.float64, grad_fn=<DivBackward0>)\n",
      "0\n",
      "100\n",
      "200\n",
      "300\n",
      "400\n",
      "500\n",
      "600\n",
      "700\n",
      "800\n",
      "900\n",
      "Final Evader Probabilities\n",
      "   tensor([ 0.4344,  0.4573,  0.4360,  0.4275,  0.7637,  0.5364, -2.0554],\n",
      "       dtype=torch.float64, grad_fn=<DivBackward0>)\n",
      "   tensor([ 0.5569,  0.4732,  0.3614,  0.4400,  0.6871,  0.5449, -2.0634],\n",
      "       dtype=torch.float64, grad_fn=<DivBackward0>)\n",
      "\n",
      "Final Inspector Probabilities\n",
      "    tensor([0.3391, 0.3577, 0.3032], dtype=torch.float64, grad_fn=<DivBackward0>)\n",
      "    tensor([0.2969, 0.4099, 0.2932], dtype=torch.float64, grad_fn=<DivBackward0>)\n",
      "    tensor([1.], dtype=torch.float64, grad_fn=<DivBackward0>)\n"
     ]
    }
   ],
   "source": [
    "num_iterations = 1000\n",
    "learning_rates = [0.1] * (num_evaders + num_inspectors)\n",
    "\n",
    "# Define initial probability-ish tensors for evaders and invaders\n",
    "evader_player_list = []\n",
    "for _ in range(num_evaders):\n",
    "    random_samples = torch.tensor(np.random.uniform(size=(num_exits)), requires_grad=True)\n",
    "    evader_player_list.append(random_samples / torch.norm(random_samples, 1))\n",
    "\n",
    "inspector_player_list = []\n",
    "for num_points in points_per_inspector:\n",
    "    random_samples = torch.tensor(np.random.uniform(size=(num_points)), requires_grad=True)\n",
    "    inspector_player_list.append(random_samples / torch.norm(random_samples, 1))                            \n",
    "                                \n",
    "print(\"Initial Evader Probabilities\")\n",
    "for tensor in evader_player_list:\n",
    "    print(\"   \" + str(tensor))\n",
    "\n",
    "print()\n",
    "    \n",
    "print(\"Initial Inspector Probabilities\")\n",
    "for tensor in inspector_player_list:\n",
    "    print(\"    \" + str(tensor))\n",
    "\n",
    "# Simulate multiple rounds of game\n",
    "for i in range(num_iterations):\n",
    "    if (i % 100 == 0):\n",
    "        print(i)\n",
    "        \n",
    "    evader_payoffs, inspector_payoffs = calculate_expected_payoffs(evader_player_list, inspector_player_list)\n",
    "    \n",
    "    updates, _ = cgd_utils.metamatrix_conjugate_gradient(\n",
    "        evader_payoffs + inspector_payoffs, \n",
    "        evader_player_list + inspector_player_list, \n",
    "        lr_list=learning_rates)\n",
    "    \n",
    "    for player, update in zip(evader_player_list + inspector_player_list, updates):\n",
    "        player.data.add_(update)\n",
    "    \n",
    "#     # Normalize probabilities for next iteration with softmax.\n",
    "#     evader_player_list = (\n",
    "#         [torch.nn.Softmax(dim=0)(evader_tensor)\n",
    "#          for evader_tensor in evader_player_list])\n",
    "#     inspector_player_list = (\n",
    "#         [torch.nn.Softmax(dim=0)(inspect_tensor)\n",
    "#          for inspect_tensor in inspector_player_list])\n",
    "    \n",
    "#     evader_player_list = [tensor.clone().detach().requires_grad_(True) for tensor in evader_player_list]\n",
    "#     inspector_player_list = [tensor.clone().detach().requires_grad_(True) for tensor in inspector_player_list] \n",
    "\n",
    "# Look at final normalized probabilities using softmax.\n",
    "normalized_evader_list = (\n",
    "        [torch.nn.Softmax(dim=0)(evader_tensor) \n",
    "         for evader_tensor in evader_player_list])\n",
    "normalized_inspector_list = (\n",
    "        [torch.nn.Softmax(dim=0)(inspect_tensor)\n",
    "         for inspect_tensor in inspector_player_list])\n",
    "\n",
    "print(\"Final Evader Probabilities\")\n",
    "for tensor in evader_player_list:\n",
    "    print(\"   \" + str(tensor))\n",
    "\n",
    "print()\n",
    "    \n",
    "print(\"Final Inspector Probabilities\")\n",
    "for tensor in inspector_player_list:\n",
    "    print(\"    \" + str(tensor))"
   ]
  },
  {
   "cell_type": "markdown",
   "metadata": {},
   "source": [
    "# Simulation with Initial Nash Equilbrium Weights"
   ]
  },
  {
   "cell_type": "code",
   "execution_count": 5,
   "metadata": {
    "ExecuteTime": {
     "end_time": "2020-11-16T19:53:02.144408Z",
     "start_time": "2020-11-16T19:52:54.840127Z"
    }
   },
   "outputs": [
    {
     "name": "stdout",
     "output_type": "stream",
     "text": [
      "Evader Probabilities\n",
      "   tensor([0.1111, 0.1111, 0.1111, 0.1111, 0.1111, 0.1111, 0.1111, 0.1111, 0.1111],\n",
      "       grad_fn=<DivBackward0>)\n",
      "   tensor([0.1111, 0.1111, 0.1111, 0.1111, 0.1111, 0.1111, 0.1111, 0.1111, 0.1111],\n",
      "       grad_fn=<DivBackward0>)\n",
      "\n",
      "Inspector Probabilities\n",
      "    tensor([0.3333, 0.3333, 0.3333], grad_fn=<DivBackward0>)\n",
      "    tensor([0.3333, 0.3333, 0.3333], grad_fn=<DivBackward0>)\n",
      "    tensor([0.3333, 0.3333, 0.3333], grad_fn=<DivBackward0>)\n"
     ]
    }
   ],
   "source": [
    "num_iterations = 1000\n",
    "learning_rates = [1] * (num_evaders + num_inspectors)\n",
    "\n",
    "# Define initial probability-ish tensors for evaders and invaders\n",
    "evader_player_list = [torch.tensor([1/6] * num_exits, \n",
    "                                   requires_grad=True) \n",
    "                      for _ in range(num_evaders)]\n",
    "\n",
    "inspector_player_list = [torch.tensor([1/2] * num_points, \n",
    "                                      requires_grad=True) \n",
    "                          for num_points in points_per_inspector]\n",
    "\n",
    "# Simulate multiple rounds of game\n",
    "for i in range(num_iterations):\n",
    "\n",
    "    evader_payoffs, inspector_payoffs = calculate_expected_payoffs(evader_player_list, inspector_player_list)\n",
    "    \n",
    "    updates, _ = cgd_utils.metamatrix_conjugate_gradient(\n",
    "        evader_payoffs + inspector_payoffs, \n",
    "        evader_player_list + inspector_player_list, \n",
    "        lr_list=learning_rates)\n",
    "    \n",
    "    \n",
    "    for player, update in zip(evader_player_list + inspector_player_list, updates):\n",
    "        player.data.add_(update)\n",
    "\n",
    "# Look at final normalized probabilities\n",
    "normalized_evader_list = (\n",
    "        [evader_tensor / torch.norm(evader_tensor, 1) \n",
    "         for evader_tensor in evader_player_list])\n",
    "normalized_inspector_list = (\n",
    "        [inspect_tensor / torch.norm(inspect_tensor, 1) \n",
    "         for inspect_tensor in inspector_player_list])\n",
    "\n",
    "print(\"Evader Probabilities\")\n",
    "for tensor in normalized_evader_list:\n",
    "    print(\"   \" + str(tensor))\n",
    "\n",
    "print()\n",
    "    \n",
    "print(\"Inspector Probabilities\")\n",
    "for tensor in normalized_inspector_list:\n",
    "    print(\"    \" + str(tensor))"
   ]
  },
  {
   "cell_type": "markdown",
   "metadata": {},
   "source": []
  }
 ],
 "metadata": {
  "kernelspec": {
   "display_name": "Python 3",
   "language": "python",
   "name": "python3"
  },
  "language_info": {
   "codemirror_mode": {
    "name": "ipython",
    "version": 3
   },
   "file_extension": ".py",
   "mimetype": "text/x-python",
   "name": "python",
   "nbconvert_exporter": "python",
   "pygments_lexer": "ipython3",
   "version": "3.6.8"
  },
  "latex_envs": {
   "LaTeX_envs_menu_present": true,
   "autoclose": false,
   "autocomplete": true,
   "bibliofile": "biblio.bib",
   "cite_by": "apalike",
   "current_citInitial": 1,
   "eqLabelWithNumbers": true,
   "eqNumInitial": 1,
   "hotkeys": {
    "equation": "Ctrl-E",
    "itemize": "Ctrl-I"
   },
   "labels_anchors": false,
   "latex_user_defs": false,
   "report_style_numbering": false,
   "user_envs_cfg": false
  },
  "varInspector": {
   "cols": {
    "lenName": 16,
    "lenType": 16,
    "lenVar": 40
   },
   "kernels_config": {
    "python": {
     "delete_cmd_postfix": "",
     "delete_cmd_prefix": "del ",
     "library": "var_list.py",
     "varRefreshCmd": "print(var_dic_list())"
    },
    "r": {
     "delete_cmd_postfix": ") ",
     "delete_cmd_prefix": "rm(",
     "library": "var_list.r",
     "varRefreshCmd": "cat(var_dic_list()) "
    }
   },
   "types_to_exclude": [
    "module",
    "function",
    "builtin_function_or_method",
    "instance",
    "_Feature"
   ],
   "window_display": false
  }
 },
 "nbformat": 4,
 "nbformat_minor": 2
}
