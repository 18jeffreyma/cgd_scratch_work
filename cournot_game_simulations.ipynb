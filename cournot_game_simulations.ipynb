{
 "cells": [
  {
   "cell_type": "markdown",
   "metadata": {},
   "source": [
    "# Imports"
   ]
  },
  {
   "cell_type": "code",
   "execution_count": 1,
   "metadata": {
    "ExecuteTime": {
     "end_time": "2020-11-11T06:31:47.160579Z",
     "start_time": "2020-11-11T06:31:46.947864Z"
    }
   },
   "outputs": [],
   "source": [
    "import torch\n",
    "import cgd_utils"
   ]
  },
  {
   "cell_type": "markdown",
   "metadata": {},
   "source": [
    "# Cournot Simulation"
   ]
  },
  {
   "cell_type": "markdown",
   "metadata": {},
   "source": [
    "## Defining Payoff Calculation"
   ]
  },
  {
   "cell_type": "code",
   "execution_count": 73,
   "metadata": {
    "ExecuteTime": {
     "end_time": "2020-11-12T02:04:57.221232Z",
     "start_time": "2020-11-12T02:04:57.216651Z"
    }
   },
   "outputs": [],
   "source": [
    "def player_payoffs(quantity_tensor,\n",
    "                   market_demand=lambda q: 100 - q,\n",
    "                   marginal_cost=lambda q: q * 10):\n",
    "    \"\"\"Assuming player list is ordered in order of increasing price.\"\"\"\n",
    "    price = torch.max(market_demand(torch.sum(quantity_tensor)),\n",
    "                      torch.tensor(0., requires_grad=True))\n",
    "\n",
    "    payoffs = []\n",
    "    for i, quantity in enumerate(quantity_tensor):\n",
    "        payoffs.append(- (quantity * price - marginal_cost(quantity)))\n",
    "        \n",
    "    return torch.stack(payoffs)"
   ]
  },
  {
   "cell_type": "markdown",
   "metadata": {},
   "source": [
    "## Defining Players and Objectives"
   ]
  },
  {
   "cell_type": "code",
   "execution_count": 81,
   "metadata": {
    "ExecuteTime": {
     "end_time": "2020-11-12T02:10:03.232220Z",
     "start_time": "2020-11-12T02:10:02.538272Z"
    },
    "scrolled": false
   },
   "outputs": [
    {
     "name": "stdout",
     "output_type": "stream",
     "text": [
      "tensor([[0.],\n",
      "        [0.],\n",
      "        [0.]], grad_fn=<StackBackward>)\n",
      "tensor([[7.5000],\n",
      "        [7.5000],\n",
      "        [7.5000]], grad_fn=<StackBackward>)\n",
      "tensor([[12.5000],\n",
      "        [12.5000],\n",
      "        [12.5000]], grad_fn=<StackBackward>)\n",
      "tensor([[15.8333],\n",
      "        [15.8333],\n",
      "        [15.8333]], grad_fn=<StackBackward>)\n",
      "tensor([[18.0556],\n",
      "        [18.0556],\n",
      "        [18.0556]], grad_fn=<StackBackward>)\n",
      "tensor([[19.5370],\n",
      "        [19.5370],\n",
      "        [19.5370]], grad_fn=<StackBackward>)\n",
      "tensor([[20.5247],\n",
      "        [20.5247],\n",
      "        [20.5247]], grad_fn=<StackBackward>)\n",
      "tensor([[21.1831],\n",
      "        [21.1831],\n",
      "        [21.1831]], grad_fn=<StackBackward>)\n",
      "tensor([[21.6221],\n",
      "        [21.6221],\n",
      "        [21.6221]], grad_fn=<StackBackward>)\n",
      "tensor([[21.9147],\n",
      "        [21.9147],\n",
      "        [21.9147]], grad_fn=<StackBackward>)\n",
      "tensor([[22.1098],\n",
      "        [22.1098],\n",
      "        [22.1098]], grad_fn=<StackBackward>)\n",
      "tensor([[22.2399],\n",
      "        [22.2399],\n",
      "        [22.2399]], grad_fn=<StackBackward>)\n",
      "tensor([[22.3266],\n",
      "        [22.3266],\n",
      "        [22.3266]], grad_fn=<StackBackward>)\n",
      "tensor([[22.3844],\n",
      "        [22.3844],\n",
      "        [22.3844]], grad_fn=<StackBackward>)\n",
      "tensor([[22.4229],\n",
      "        [22.4229],\n",
      "        [22.4229]], grad_fn=<StackBackward>)\n",
      "tensor([[22.4486],\n",
      "        [22.4486],\n",
      "        [22.4486]], grad_fn=<StackBackward>)\n",
      "tensor([[22.4657],\n",
      "        [22.4657],\n",
      "        [22.4657]], grad_fn=<StackBackward>)\n",
      "tensor([[22.4772],\n",
      "        [22.4772],\n",
      "        [22.4772]], grad_fn=<StackBackward>)\n",
      "tensor([[22.4848],\n",
      "        [22.4848],\n",
      "        [22.4848]], grad_fn=<StackBackward>)\n",
      "tensor([[22.4898],\n",
      "        [22.4898],\n",
      "        [22.4898]], grad_fn=<StackBackward>)\n",
      "tensor([[22.4932],\n",
      "        [22.4932],\n",
      "        [22.4932]], grad_fn=<StackBackward>)\n",
      "tensor([[22.4955],\n",
      "        [22.4955],\n",
      "        [22.4955]], grad_fn=<StackBackward>)\n",
      "tensor([[22.4970],\n",
      "        [22.4970],\n",
      "        [22.4970]], grad_fn=<StackBackward>)\n",
      "tensor([[22.4980],\n",
      "        [22.4980],\n",
      "        [22.4980]], grad_fn=<StackBackward>)\n",
      "tensor([[22.4987],\n",
      "        [22.4987],\n",
      "        [22.4987]], grad_fn=<StackBackward>)\n",
      "tensor([[22.4991],\n",
      "        [22.4991],\n",
      "        [22.4991]], grad_fn=<StackBackward>)\n",
      "tensor([[22.4994],\n",
      "        [22.4994],\n",
      "        [22.4994]], grad_fn=<StackBackward>)\n",
      "tensor([[22.4996],\n",
      "        [22.4996],\n",
      "        [22.4996]], grad_fn=<StackBackward>)\n",
      "tensor([[22.4997],\n",
      "        [22.4997],\n",
      "        [22.4997]], grad_fn=<StackBackward>)\n",
      "tensor([[22.4998],\n",
      "        [22.4998],\n",
      "        [22.4998]], grad_fn=<StackBackward>)\n",
      "tensor([[22.4999],\n",
      "        [22.4999],\n",
      "        [22.4999]], grad_fn=<StackBackward>)\n",
      "tensor([[22.4999],\n",
      "        [22.4999],\n",
      "        [22.4999]], grad_fn=<StackBackward>)\n",
      "tensor([[22.4999],\n",
      "        [22.4999],\n",
      "        [22.4999]], grad_fn=<StackBackward>)\n",
      "tensor([[22.5000],\n",
      "        [22.5000],\n",
      "        [22.5000]], grad_fn=<StackBackward>)\n",
      "tensor([[22.5000],\n",
      "        [22.5000],\n",
      "        [22.5000]], grad_fn=<StackBackward>)\n",
      "tensor([[22.5000],\n",
      "        [22.5000],\n",
      "        [22.5000]], grad_fn=<StackBackward>)\n",
      "tensor([[22.5000],\n",
      "        [22.5000],\n",
      "        [22.5000]], grad_fn=<StackBackward>)\n",
      "tensor([[22.5000],\n",
      "        [22.5000],\n",
      "        [22.5000]], grad_fn=<StackBackward>)\n",
      "tensor([[22.5000],\n",
      "        [22.5000],\n",
      "        [22.5000]], grad_fn=<StackBackward>)\n",
      "tensor([[22.5000],\n",
      "        [22.5000],\n",
      "        [22.5000]], grad_fn=<StackBackward>)\n",
      "tensor([[22.5000],\n",
      "        [22.5000],\n",
      "        [22.5000]], grad_fn=<StackBackward>)\n",
      "tensor([[22.5000],\n",
      "        [22.5000],\n",
      "        [22.5000]], grad_fn=<StackBackward>)\n",
      "tensor([[22.5000],\n",
      "        [22.5000],\n",
      "        [22.5000]], grad_fn=<StackBackward>)\n",
      "tensor([[22.5000],\n",
      "        [22.5000],\n",
      "        [22.5000]], grad_fn=<StackBackward>)\n",
      "tensor([[22.5000],\n",
      "        [22.5000],\n",
      "        [22.5000]], grad_fn=<StackBackward>)\n",
      "tensor([[22.5000],\n",
      "        [22.5000],\n",
      "        [22.5000]], grad_fn=<StackBackward>)\n",
      "tensor([[22.5000],\n",
      "        [22.5000],\n",
      "        [22.5000]], grad_fn=<StackBackward>)\n",
      "tensor([[22.5000],\n",
      "        [22.5000],\n",
      "        [22.5000]], grad_fn=<StackBackward>)\n",
      "tensor([[22.5000],\n",
      "        [22.5000],\n",
      "        [22.5000]], grad_fn=<StackBackward>)\n",
      "tensor([[22.5000],\n",
      "        [22.5000],\n",
      "        [22.5000]], grad_fn=<StackBackward>)\n"
     ]
    }
   ],
   "source": [
    "num_iterations = 50\n",
    "\n",
    "# Define individual sellers and prices\n",
    "p1 = torch.tensor([0.], requires_grad=True)\n",
    "p2 = torch.tensor([0.], requires_grad=True)\n",
    "p3 = torch.tensor([0.], requires_grad=True)\n",
    "\n",
    "players = torch.stack([p1, p2, p3])\n",
    "\n",
    "learning_rates = [0.1, 0.1, 0.1]\n",
    "\n",
    "for i in range(num_iterations):\n",
    "    print(players)\n",
    "    payoffs = player_payoffs(players)\n",
    "    updates, n_iter = cgd_utils.metamatrix_conjugate_gradient(payoffs, [p1, p2, p3], lr_list=learning_rates)\n",
    "    \n",
    "    for player, update in zip(players, updates):\n",
    "        player.data.add_(update)\n",
    "    \n"
   ]
  },
  {
   "cell_type": "code",
   "execution_count": null,
   "metadata": {},
   "outputs": [],
   "source": []
  }
 ],
 "metadata": {
  "kernelspec": {
   "display_name": "Python 3",
   "language": "python",
   "name": "python3"
  },
  "language_info": {
   "codemirror_mode": {
    "name": "ipython",
    "version": 3
   },
   "file_extension": ".py",
   "mimetype": "text/x-python",
   "name": "python",
   "nbconvert_exporter": "python",
   "pygments_lexer": "ipython3",
   "version": "3.6.8"
  },
  "latex_envs": {
   "LaTeX_envs_menu_present": true,
   "autoclose": false,
   "autocomplete": true,
   "bibliofile": "biblio.bib",
   "cite_by": "apalike",
   "current_citInitial": 1,
   "eqLabelWithNumbers": true,
   "eqNumInitial": 1,
   "hotkeys": {
    "equation": "Ctrl-E",
    "itemize": "Ctrl-I"
   },
   "labels_anchors": false,
   "latex_user_defs": false,
   "report_style_numbering": false,
   "user_envs_cfg": false
  },
  "varInspector": {
   "cols": {
    "lenName": 16,
    "lenType": 16,
    "lenVar": 40
   },
   "kernels_config": {
    "python": {
     "delete_cmd_postfix": "",
     "delete_cmd_prefix": "del ",
     "library": "var_list.py",
     "varRefreshCmd": "print(var_dic_list())"
    },
    "r": {
     "delete_cmd_postfix": ") ",
     "delete_cmd_prefix": "rm(",
     "library": "var_list.r",
     "varRefreshCmd": "cat(var_dic_list()) "
    }
   },
   "types_to_exclude": [
    "module",
    "function",
    "builtin_function_or_method",
    "instance",
    "_Feature"
   ],
   "window_display": false
  }
 },
 "nbformat": 4,
 "nbformat_minor": 2
}
